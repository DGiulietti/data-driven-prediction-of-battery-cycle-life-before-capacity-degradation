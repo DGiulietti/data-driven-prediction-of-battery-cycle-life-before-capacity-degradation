{
  "cells": [
    {
      "cell_type": "markdown",
      "metadata": {
        "id": "view-in-github",
        "colab_type": "text"
      },
      "source": [
        "<a href=\"https://colab.research.google.com/github/DGiulietti/data-driven-prediction-of-battery-cycle-life-before-capacity-degradation/blob/master/Load%20All%20Data.ipynb\" target=\"_parent\"><img src=\"https://colab.research.google.com/assets/colab-badge.svg\" alt=\"Open In Colab\"/></a>"
      ]
    },
    {
      "cell_type": "code",
      "execution_count": 1,
      "metadata": {
        "collapsed": true,
        "id": "r5OlSN2IwTws"
      },
      "outputs": [],
      "source": [
        "import numpy as np\n",
        "import matplotlib.pyplot as plt\n",
        "import pickle"
      ]
    },
    {
      "cell_type": "code",
      "source": [],
      "metadata": {
        "id": "Co2DUXgp9Tv6"
      },
      "execution_count": null,
      "outputs": []
    },
    {
      "cell_type": "code",
      "source": [
        "! wget https://s3.amazonaws.com/publications.matr.io/1/final_data/FastCharge.zip\n"
      ],
      "metadata": {
        "colab": {
          "base_uri": "https://localhost:8080/"
        },
        "id": "TwIvompGA5Gw",
        "outputId": "318ffffa-1bcc-4274-92e0-ddb65cdad249"
      },
      "execution_count": 1,
      "outputs": [
        {
          "output_type": "stream",
          "name": "stdout",
          "text": [
            "--2022-09-19 23:09:42--  https://s3.amazonaws.com/publications.matr.io/1/final_data/FastCharge.zip\n",
            "Resolving s3.amazonaws.com (s3.amazonaws.com)... 54.231.161.56\n",
            "Connecting to s3.amazonaws.com (s3.amazonaws.com)|54.231.161.56|:443... connected.\n",
            "HTTP request sent, awaiting response... 200 OK\n",
            "Length: 27946134992 (26G) [application/zip]\n",
            "Saving to: ‘FastCharge.zip’\n",
            "\n",
            "FastCharge.zip      100%[===================>]  26.03G  70.1MB/s    in 5m 54s  \n",
            "\n",
            "2022-09-19 23:15:36 (75.4 MB/s) - ‘FastCharge.zip’ saved [27946134992/27946134992]\n",
            "\n"
          ]
        }
      ]
    },
    {
      "cell_type": "code",
      "source": [
        "! unzip FastCharge.zip"
      ],
      "metadata": {
        "id": "Jdgh3UqUBD2-"
      },
      "execution_count": null,
      "outputs": []
    },
    {
      "cell_type": "markdown",
      "source": [
        "# Initial Inspection"
      ],
      "metadata": {
        "id": "21CxHbTxcp_h"
      }
    },
    {
      "cell_type": "code",
      "source": [
        "import json"
      ],
      "metadata": {
        "id": "p7rtFNjuFAB3"
      },
      "execution_count": 3,
      "outputs": []
    },
    {
      "cell_type": "code",
      "source": [
        "with open(\"/content/FastCharge_000000_CH19_structure.json\", 'r') as j:\n",
        "     data = json.loads(j.read())\n"
      ],
      "metadata": {
        "id": "N5pb3i4YFBml"
      },
      "execution_count": 6,
      "outputs": []
    },
    {
      "cell_type": "code",
      "source": [
        "import pandas as pd"
      ],
      "metadata": {
        "id": "JCyEERKXF8AX"
      },
      "execution_count": 8,
      "outputs": []
    },
    {
      "cell_type": "code",
      "source": [
        "df=pd.DataFrame(data)"
      ],
      "metadata": {
        "id": "9XbokbW8FuRS"
      },
      "execution_count": 12,
      "outputs": []
    },
    {
      "cell_type": "code",
      "source": [
        "df.index"
      ],
      "metadata": {
        "colab": {
          "base_uri": "https://localhost:8080/"
        },
        "id": "7xMmbAXOWL6a",
        "outputId": "67a36ffd-d53c-44b9-8142-91fd300dddb9"
      },
      "execution_count": 46,
      "outputs": [
        {
          "output_type": "execute_result",
          "data": {
            "text/plain": [
              "Index(['cycle_index', 'discharge_capacity', 'charge_capacity',\n",
              "       'discharge_energy', 'charge_energy', 'dc_internal_resistance',\n",
              "       'temperature_maximum', 'temperature_average', 'temperature_minimum',\n",
              "       'date_time_iso', 'energy_efficiency', 'charge_throughput',\n",
              "       'energy_throughput', 'charge_duration', 'time_temperature_integrated',\n",
              "       'paused', 'voltage', 'current', 'internal_resistance', 'temperature',\n",
              "       'step_type'],\n",
              "      dtype='object')"
            ]
          },
          "metadata": {},
          "execution_count": 46
        }
      ]
    },
    {
      "cell_type": "code",
      "source": [
        "df.columns"
      ],
      "metadata": {
        "colab": {
          "base_uri": "https://localhost:8080/"
        },
        "id": "cKLmReuHHHPq",
        "outputId": "e61fca07-339d-4c62-82ac-5e5041ce68c9"
      },
      "execution_count": 13,
      "outputs": [
        {
          "output_type": "execute_result",
          "data": {
            "text/plain": [
              "Index(['@module', '@class', 'barcode', 'protocol', 'channel_id', 'summary',\n",
              "       'cycles_interpolated', 'diagnostic_summary', 'diagnostic_interpolated',\n",
              "       '@version'],\n",
              "      dtype='object')"
            ]
          },
          "metadata": {},
          "execution_count": 13
        }
      ]
    },
    {
      "cell_type": "code",
      "source": [
        "df.head(4)"
      ],
      "metadata": {
        "colab": {
          "base_uri": "https://localhost:8080/",
          "height": 378
        },
        "id": "rCau3IqMHipA",
        "outputId": "afca1f4d-cdd1-4463-b42e-eda2a70ab7ca"
      },
      "execution_count": 15,
      "outputs": [
        {
          "output_type": "execute_result",
          "data": {
            "text/plain": [
              "                           @module              @class         barcode  \\\n",
              "cycle_index         beep.structure  ProcessedCyclerRun  el150800440551   \n",
              "discharge_capacity  beep.structure  ProcessedCyclerRun  el150800440551   \n",
              "charge_capacity     beep.structure  ProcessedCyclerRun  el150800440551   \n",
              "discharge_energy    beep.structure  ProcessedCyclerRun  el150800440551   \n",
              "\n",
              "                                                       protocol  channel_id  \\\n",
              "cycle_index         2017-06-30_tests\\20170630-4_4C_55per_6C.sdu          18   \n",
              "discharge_capacity  2017-06-30_tests\\20170630-4_4C_55per_6C.sdu          18   \n",
              "charge_capacity     2017-06-30_tests\\20170630-4_4C_55per_6C.sdu          18   \n",
              "discharge_energy    2017-06-30_tests\\20170630-4_4C_55per_6C.sdu          18   \n",
              "\n",
              "                                                              summary  \\\n",
              "cycle_index         [0, 1, 2, 3, 4, 5, 6, 7, 8, 9, 10, 11, 12, 13,...   \n",
              "discharge_capacity  [1.9345720000000002, 1.0454259, 1.0480373, 1.0...   \n",
              "charge_capacity     [1.4173516000000002, 1.0456483, 1.0484418, 1.0...   \n",
              "discharge_energy    [6.116105999999999, 3.1736647999999996, 3.1761...   \n",
              "\n",
              "                                                  cycles_interpolated  \\\n",
              "cycle_index         [0, 0, 0, 0, 0, 0, 0, 0, 0, 0, 0, 0, 0, 0, 0, ...   \n",
              "discharge_capacity  [1.1768885668964293, 0.9488411090520573, 0.720...   \n",
              "charge_capacity     [0.6852903643429072, 0.46119085672688037, 0.23...   \n",
              "discharge_energy                                                  NaN   \n",
              "\n",
              "                   diagnostic_summary diagnostic_interpolated  \\\n",
              "cycle_index                      None                    None   \n",
              "discharge_capacity               None                    None   \n",
              "charge_capacity                  None                    None   \n",
              "discharge_energy                 None                    None   \n",
              "\n",
              "                                 @version  \n",
              "cycle_index         2020.10.19.20-8667111  \n",
              "discharge_capacity  2020.10.19.20-8667111  \n",
              "charge_capacity     2020.10.19.20-8667111  \n",
              "discharge_energy    2020.10.19.20-8667111  "
            ],
            "text/html": [
              "\n",
              "  <div id=\"df-d5cba371-2aa6-422d-929b-0480e7744834\">\n",
              "    <div class=\"colab-df-container\">\n",
              "      <div>\n",
              "<style scoped>\n",
              "    .dataframe tbody tr th:only-of-type {\n",
              "        vertical-align: middle;\n",
              "    }\n",
              "\n",
              "    .dataframe tbody tr th {\n",
              "        vertical-align: top;\n",
              "    }\n",
              "\n",
              "    .dataframe thead th {\n",
              "        text-align: right;\n",
              "    }\n",
              "</style>\n",
              "<table border=\"1\" class=\"dataframe\">\n",
              "  <thead>\n",
              "    <tr style=\"text-align: right;\">\n",
              "      <th></th>\n",
              "      <th>@module</th>\n",
              "      <th>@class</th>\n",
              "      <th>barcode</th>\n",
              "      <th>protocol</th>\n",
              "      <th>channel_id</th>\n",
              "      <th>summary</th>\n",
              "      <th>cycles_interpolated</th>\n",
              "      <th>diagnostic_summary</th>\n",
              "      <th>diagnostic_interpolated</th>\n",
              "      <th>@version</th>\n",
              "    </tr>\n",
              "  </thead>\n",
              "  <tbody>\n",
              "    <tr>\n",
              "      <th>cycle_index</th>\n",
              "      <td>beep.structure</td>\n",
              "      <td>ProcessedCyclerRun</td>\n",
              "      <td>el150800440551</td>\n",
              "      <td>2017-06-30_tests\\20170630-4_4C_55per_6C.sdu</td>\n",
              "      <td>18</td>\n",
              "      <td>[0, 1, 2, 3, 4, 5, 6, 7, 8, 9, 10, 11, 12, 13,...</td>\n",
              "      <td>[0, 0, 0, 0, 0, 0, 0, 0, 0, 0, 0, 0, 0, 0, 0, ...</td>\n",
              "      <td>None</td>\n",
              "      <td>None</td>\n",
              "      <td>2020.10.19.20-8667111</td>\n",
              "    </tr>\n",
              "    <tr>\n",
              "      <th>discharge_capacity</th>\n",
              "      <td>beep.structure</td>\n",
              "      <td>ProcessedCyclerRun</td>\n",
              "      <td>el150800440551</td>\n",
              "      <td>2017-06-30_tests\\20170630-4_4C_55per_6C.sdu</td>\n",
              "      <td>18</td>\n",
              "      <td>[1.9345720000000002, 1.0454259, 1.0480373, 1.0...</td>\n",
              "      <td>[1.1768885668964293, 0.9488411090520573, 0.720...</td>\n",
              "      <td>None</td>\n",
              "      <td>None</td>\n",
              "      <td>2020.10.19.20-8667111</td>\n",
              "    </tr>\n",
              "    <tr>\n",
              "      <th>charge_capacity</th>\n",
              "      <td>beep.structure</td>\n",
              "      <td>ProcessedCyclerRun</td>\n",
              "      <td>el150800440551</td>\n",
              "      <td>2017-06-30_tests\\20170630-4_4C_55per_6C.sdu</td>\n",
              "      <td>18</td>\n",
              "      <td>[1.4173516000000002, 1.0456483, 1.0484418, 1.0...</td>\n",
              "      <td>[0.6852903643429072, 0.46119085672688037, 0.23...</td>\n",
              "      <td>None</td>\n",
              "      <td>None</td>\n",
              "      <td>2020.10.19.20-8667111</td>\n",
              "    </tr>\n",
              "    <tr>\n",
              "      <th>discharge_energy</th>\n",
              "      <td>beep.structure</td>\n",
              "      <td>ProcessedCyclerRun</td>\n",
              "      <td>el150800440551</td>\n",
              "      <td>2017-06-30_tests\\20170630-4_4C_55per_6C.sdu</td>\n",
              "      <td>18</td>\n",
              "      <td>[6.116105999999999, 3.1736647999999996, 3.1761...</td>\n",
              "      <td>NaN</td>\n",
              "      <td>None</td>\n",
              "      <td>None</td>\n",
              "      <td>2020.10.19.20-8667111</td>\n",
              "    </tr>\n",
              "  </tbody>\n",
              "</table>\n",
              "</div>\n",
              "      <button class=\"colab-df-convert\" onclick=\"convertToInteractive('df-d5cba371-2aa6-422d-929b-0480e7744834')\"\n",
              "              title=\"Convert this dataframe to an interactive table.\"\n",
              "              style=\"display:none;\">\n",
              "        \n",
              "  <svg xmlns=\"http://www.w3.org/2000/svg\" height=\"24px\"viewBox=\"0 0 24 24\"\n",
              "       width=\"24px\">\n",
              "    <path d=\"M0 0h24v24H0V0z\" fill=\"none\"/>\n",
              "    <path d=\"M18.56 5.44l.94 2.06.94-2.06 2.06-.94-2.06-.94-.94-2.06-.94 2.06-2.06.94zm-11 1L8.5 8.5l.94-2.06 2.06-.94-2.06-.94L8.5 2.5l-.94 2.06-2.06.94zm10 10l.94 2.06.94-2.06 2.06-.94-2.06-.94-.94-2.06-.94 2.06-2.06.94z\"/><path d=\"M17.41 7.96l-1.37-1.37c-.4-.4-.92-.59-1.43-.59-.52 0-1.04.2-1.43.59L10.3 9.45l-7.72 7.72c-.78.78-.78 2.05 0 2.83L4 21.41c.39.39.9.59 1.41.59.51 0 1.02-.2 1.41-.59l7.78-7.78 2.81-2.81c.8-.78.8-2.07 0-2.86zM5.41 20L4 18.59l7.72-7.72 1.47 1.35L5.41 20z\"/>\n",
              "  </svg>\n",
              "      </button>\n",
              "      \n",
              "  <style>\n",
              "    .colab-df-container {\n",
              "      display:flex;\n",
              "      flex-wrap:wrap;\n",
              "      gap: 12px;\n",
              "    }\n",
              "\n",
              "    .colab-df-convert {\n",
              "      background-color: #E8F0FE;\n",
              "      border: none;\n",
              "      border-radius: 50%;\n",
              "      cursor: pointer;\n",
              "      display: none;\n",
              "      fill: #1967D2;\n",
              "      height: 32px;\n",
              "      padding: 0 0 0 0;\n",
              "      width: 32px;\n",
              "    }\n",
              "\n",
              "    .colab-df-convert:hover {\n",
              "      background-color: #E2EBFA;\n",
              "      box-shadow: 0px 1px 2px rgba(60, 64, 67, 0.3), 0px 1px 3px 1px rgba(60, 64, 67, 0.15);\n",
              "      fill: #174EA6;\n",
              "    }\n",
              "\n",
              "    [theme=dark] .colab-df-convert {\n",
              "      background-color: #3B4455;\n",
              "      fill: #D2E3FC;\n",
              "    }\n",
              "\n",
              "    [theme=dark] .colab-df-convert:hover {\n",
              "      background-color: #434B5C;\n",
              "      box-shadow: 0px 1px 3px 1px rgba(0, 0, 0, 0.15);\n",
              "      filter: drop-shadow(0px 1px 2px rgba(0, 0, 0, 0.3));\n",
              "      fill: #FFFFFF;\n",
              "    }\n",
              "  </style>\n",
              "\n",
              "      <script>\n",
              "        const buttonEl =\n",
              "          document.querySelector('#df-d5cba371-2aa6-422d-929b-0480e7744834 button.colab-df-convert');\n",
              "        buttonEl.style.display =\n",
              "          google.colab.kernel.accessAllowed ? 'block' : 'none';\n",
              "\n",
              "        async function convertToInteractive(key) {\n",
              "          const element = document.querySelector('#df-d5cba371-2aa6-422d-929b-0480e7744834');\n",
              "          const dataTable =\n",
              "            await google.colab.kernel.invokeFunction('convertToInteractive',\n",
              "                                                     [key], {});\n",
              "          if (!dataTable) return;\n",
              "\n",
              "          const docLinkHtml = 'Like what you see? Visit the ' +\n",
              "            '<a target=\"_blank\" href=https://colab.research.google.com/notebooks/data_table.ipynb>data table notebook</a>'\n",
              "            + ' to learn more about interactive tables.';\n",
              "          element.innerHTML = '';\n",
              "          dataTable['output_type'] = 'display_data';\n",
              "          await google.colab.output.renderOutput(dataTable, element);\n",
              "          const docLink = document.createElement('div');\n",
              "          docLink.innerHTML = docLinkHtml;\n",
              "          element.appendChild(docLink);\n",
              "        }\n",
              "      </script>\n",
              "    </div>\n",
              "  </div>\n",
              "  "
            ]
          },
          "metadata": {},
          "execution_count": 15
        }
      ]
    },
    {
      "cell_type": "code",
      "source": [
        "print(len(set(df.iloc[1,6])))\n",
        "print(max(df.iloc[1,6]))\n",
        "print(min(df.iloc[1,6]))"
      ],
      "metadata": {
        "colab": {
          "base_uri": "https://localhost:8080/"
        },
        "id": "IOb7W-gTLeWV",
        "outputId": "6c70b498-ed0f-4fc2-bbe9-54c3ce19b689"
      },
      "execution_count": 37,
      "outputs": [
        {
          "output_type": "stream",
          "name": "stdout",
          "text": [
            "420165\n",
            "1.8731750355372456\n",
            "0.0\n"
          ]
        }
      ]
    },
    {
      "cell_type": "code",
      "source": [
        "print(len(df.iloc[1,5]))\n",
        "print(max(df.iloc[1,5]))\n",
        "print(min(df.iloc[1,5]))"
      ],
      "metadata": {
        "colab": {
          "base_uri": "https://localhost:8080/"
        },
        "id": "lewDAvOpL0wX",
        "outputId": "7988e665-116b-467a-c94e-117538d420cf"
      },
      "execution_count": 38,
      "outputs": [
        {
          "output_type": "stream",
          "name": "stdout",
          "text": [
            "491\n",
            "1.9345720000000002\n",
            "0.82366771\n"
          ]
        }
      ]
    },
    {
      "cell_type": "code",
      "source": [
        "import seaborn as sns"
      ],
      "metadata": {
        "id": "FTGu5FN5Mj_W"
      },
      "execution_count": 39,
      "outputs": []
    },
    {
      "cell_type": "code",
      "source": [
        "sns.lineplot(df.iloc[0,5], df.iloc[1,5]);"
      ],
      "metadata": {
        "colab": {
          "base_uri": "https://localhost:8080/",
          "height": 320
        },
        "id": "tlwkHOXQMn0F",
        "outputId": "464da8af-3d2a-431b-fad5-2c8581cce21c"
      },
      "execution_count": 49,
      "outputs": [
        {
          "output_type": "stream",
          "name": "stderr",
          "text": [
            "/usr/local/lib/python3.7/dist-packages/seaborn/_decorators.py:43: FutureWarning: Pass the following variables as keyword args: x, y. From version 0.12, the only valid positional argument will be `data`, and passing other arguments without an explicit keyword will result in an error or misinterpretation.\n",
            "  FutureWarning\n"
          ]
        },
        {
          "output_type": "display_data",
          "data": {
            "text/plain": [
              "<Figure size 432x288 with 1 Axes>"
            ],
            "image/png": "[encoded data removed]"
          },
          "metadata": {
            "needs_background": "light"
          }
        }
      ]
    },
    {
      "cell_type": "code",
      "source": [
        "sns.lineplot(df.iloc[0,6], df.iloc[1,6]);"
      ],
      "metadata": {
        "colab": {
          "base_uri": "https://localhost:8080/",
          "height": 320
        },
        "id": "pXRgu0YrMn7e",
        "outputId": "7a57fc7d-7150-43f0-8cd6-0469760b0db0"
      },
      "execution_count": 50,
      "outputs": [
        {
          "output_type": "stream",
          "name": "stderr",
          "text": [
            "/usr/local/lib/python3.7/dist-packages/seaborn/_decorators.py:43: FutureWarning: Pass the following variables as keyword args: x, y. From version 0.12, the only valid positional argument will be `data`, and passing other arguments without an explicit keyword will result in an error or misinterpretation.\n",
            "  FutureWarning\n"
          ]
        },
        {
          "output_type": "display_data",
          "data": {
            "text/plain": [
              "<Figure size 432x288 with 1 Axes>"
            ],
            "image/png": "[encoded data removed]"
          },
          "metadata": {
            "needs_background": "light"
          }
        }
      ]
    },
    {
      "cell_type": "markdown",
      "source": [
        "I'm not really sure what the cycle_interpolation is but I think we just want to used summary based on what this notebook contains."
      ],
      "metadata": {
        "id": "QDORxBdnLWg7"
      }
    },
    {
      "cell_type": "code",
      "source": [
        "df[['@module', '@class', 'barcode', 'protocol', 'channel_id', 'diagnostic_summary', 'diagnostic_interpolated',\n",
        "       '@version']].apply(lambda x: print(x.value_counts()), axis=0)"
      ],
      "metadata": {
        "colab": {
          "base_uri": "https://localhost:8080/"
        },
        "id": "TmyR_5EFH59m",
        "outputId": "2f2ff1f2-0e38-4cab-c5d8-db4b64cb9c30"
      },
      "execution_count": 52,
      "outputs": [
        {
          "output_type": "stream",
          "name": "stdout",
          "text": [
            "beep.structure    21\n",
            "Name: @module, dtype: int64\n",
            "ProcessedCyclerRun    21\n",
            "Name: @class, dtype: int64\n",
            "el150800440551    21\n",
            "Name: barcode, dtype: int64\n",
            "2017-06-30_tests\\20170630-4_4C_55per_6C.sdu    21\n",
            "Name: protocol, dtype: int64\n",
            "18    21\n",
            "Name: channel_id, dtype: int64\n",
            "Series([], Name: diagnostic_summary, dtype: int64)\n",
            "Series([], Name: diagnostic_interpolated, dtype: int64)\n",
            "2020.10.19.20-8667111    21\n",
            "Name: @version, dtype: int64\n"
          ]
        },
        {
          "output_type": "execute_result",
          "data": {
            "text/plain": [
              "@module                    None\n",
              "@class                     None\n",
              "barcode                    None\n",
              "protocol                   None\n",
              "channel_id                 None\n",
              "diagnostic_summary         None\n",
              "diagnostic_interpolated    None\n",
              "@version                   None\n",
              "dtype: object"
            ]
          },
          "metadata": {},
          "execution_count": 52
        }
      ]
    },
    {
      "cell_type": "markdown",
      "source": [
        "# Loading Everything"
      ],
      "metadata": {
        "id": "jL97dLJ6cxZK"
      }
    },
    {
      "cell_type": "code",
      "source": [
        "import glob\n",
        "\n",
        "files_to_process = glob.glob(\"/content/*.json\")\n",
        "files_to_process"
      ],
      "metadata": {
        "id": "a4S_yZr_ZjJN"
      },
      "execution_count": null,
      "outputs": []
    },
    {
      "cell_type": "code",
      "source": [
        "meta = pd.DataFrame()\n",
        "data_dict = {}\n",
        "for fp in files_to_process:\n",
        "  with open(fp, 'r') as j:\n",
        "     d = json.loads(j.read())\n",
        "  df=pd.DataFrame(d)\n",
        "  meta_row = df.loc[\"cycle_index\",['@module', '@class', 'barcode', 'protocol', 'channel_id', '@version']]\n",
        "  meta_row[\"filename\"] = fp\n",
        "  meta = meta.append(meta_row, ignore_index=True)\n",
        "  data = df.loc[:,['summary']]\n",
        "  data = data.dropna()\n",
        "  data = pd.DataFrame(data.summary.tolist(), index= data.index).T.set_index(\"cycle_index\")\n",
        "  data_dict[fp] = data"
      ],
      "metadata": {
        "id": "BaSKXT_IYQ7V"
      },
      "execution_count": 119,
      "outputs": []
    },
    {
      "cell_type": "markdown",
      "source": [
        "# Meta Data Exploration"
      ],
      "metadata": {
        "id": "IDscINcroqOl"
      }
    },
    {
      "cell_type": "code",
      "source": [
        "meta"
      ],
      "metadata": {
        "colab": {
          "base_uri": "https://localhost:8080/",
          "height": 424
        },
        "id": "NK8Oa3KtYRCY",
        "outputId": "916ef2bc-e81b-41f0-8ffc-e057d3c691f8"
      },
      "execution_count": 120,
      "outputs": [
        {
          "output_type": "execute_result",
          "data": {
            "text/plain": [
              "            @module              @class         barcode  \\\n",
              "0    beep.structure  ProcessedCyclerRun  el150800460641   \n",
              "1    beep.structure  ProcessedCyclerRun  EL150800460630   \n",
              "2    beep.structure  ProcessedCyclerRun  EL150800460659   \n",
              "3    beep.structure  ProcessedCyclerRun  el150800460513   \n",
              "4    beep.structure  ProcessedCyclerRun  el150800737314   \n",
              "..              ...                 ...             ...   \n",
              "135  beep.structure  ProcessedCyclerRun  el150800460526   \n",
              "136  beep.structure  ProcessedCyclerRun  el150800460451   \n",
              "137  beep.structure  ProcessedCyclerRun  el150800737368   \n",
              "138  beep.structure  ProcessedCyclerRun  el150800460478   \n",
              "139  beep.structure  ProcessedCyclerRun  EL150800460485   \n",
              "\n",
              "                                              protocol  channel_id  \\\n",
              "0          2017-06-30_tests\\20170630-5_2C_58per_4C.sdu        33.0   \n",
              "1            2017-05-12_TESTS\\20170512-6C-40PER_3C.SDU        24.0   \n",
              "2          2017-05-12_TESTS\\20170512-6C-40PER_3_6C.SDU        32.0   \n",
              "3          2017-06-30_tests\\20170630-5_6C_65per_3C.sdu        41.0   \n",
              "4    2018-04-12_batch8\\20180412-5_6C_36per_4_3C_new...        20.0   \n",
              "..                                                 ...         ...   \n",
              "135      2017-06-30_tests\\20170630-5_6C_5per_4_75C.sdu        40.0   \n",
              "136         2017-06-30_tests\\20170630-3_6C_9per_5C.sdu        15.0   \n",
              "137  2018-04-12_batch8\\20180412-5C_67per_4C_newstru...        33.0   \n",
              "138        2017-06-30_tests\\20170630-4_4C_24per_5C.sdu        16.0   \n",
              "139        2017-05-12_TESTS\\20170512-8C-35PER_3_6C.SDU        46.0   \n",
              "\n",
              "                  @version                                        filename  \n",
              "0    2020.10.19.20-8667111  /content/FastCharge_000072_CH34_structure.json  \n",
              "1        2020.8.21-6702566  /content/FastCharge_000066_CH25_structure.json  \n",
              "2         2020.6.2-1674d80  /content/FastCharge_000065_CH33_structure.json  \n",
              "3    2020.10.19.20-8667111  /content/FastCharge_000053_CH42_structure.json  \n",
              "4    2020.10.19.20-8667111  /content/FastCharge_000012_CH21_structure.json  \n",
              "..                     ...                                             ...  \n",
              "135  2020.10.19.20-8667111  /content/FastCharge_000052_CH41_structure.json  \n",
              "136  2020.10.19.20-8667111  /content/FastCharge_000043_CH16_structure.json  \n",
              "137  2020.10.19.20-8667111  /content/FastCharge_000002_CH34_structure.json  \n",
              "138  2020.10.19.20-8667111  /content/FastCharge_000016_CH17_structure.json  \n",
              "139      2020.8.21-6702566  /content/FastCharge_000008_CH47_structure.json  \n",
              "\n",
              "[140 rows x 7 columns]"
            ],
            "text/html": [
              "\n",
              "  <div id=\"df-cb3500d3-098c-4104-b615-5635f7afecb1\">\n",
              "    <div class=\"colab-df-container\">\n",
              "      <div>\n",
              "<style scoped>\n",
              "    .dataframe tbody tr th:only-of-type {\n",
              "        vertical-align: middle;\n",
              "    }\n",
              "\n",
              "    .dataframe tbody tr th {\n",
              "        vertical-align: top;\n",
              "    }\n",
              "\n",
              "    .dataframe thead th {\n",
              "        text-align: right;\n",
              "    }\n",
              "</style>\n",
              "<table border=\"1\" class=\"dataframe\">\n",
              "  <thead>\n",
              "    <tr style=\"text-align: right;\">\n",
              "      <th></th>\n",
              "      <th>@module</th>\n",
              "      <th>@class</th>\n",
              "      <th>barcode</th>\n",
              "      <th>protocol</th>\n",
              "      <th>channel_id</th>\n",
              "      <th>@version</th>\n",
              "      <th>filename</th>\n",
              "    </tr>\n",
              "  </thead>\n",
              "  <tbody>\n",
              "    <tr>\n",
              "      <th>0</th>\n",
              "      <td>beep.structure</td>\n",
              "      <td>ProcessedCyclerRun</td>\n",
              "      <td>el150800460641</td>\n",
              "      <td>2017-06-30_tests\\20170630-5_2C_58per_4C.sdu</td>\n",
              "      <td>33.0</td>\n",
              "      <td>2020.10.19.20-8667111</td>\n",
              "      <td>/content/FastCharge_000072_CH34_structure.json</td>\n",
              "    </tr>\n",
              "    <tr>\n",
              "      <th>1</th>\n",
              "      <td>beep.structure</td>\n",
              "      <td>ProcessedCyclerRun</td>\n",
              "      <td>EL150800460630</td>\n",
              "      <td>2017-05-12_TESTS\\20170512-6C-40PER_3C.SDU</td>\n",
              "      <td>24.0</td>\n",
              "      <td>2020.8.21-6702566</td>\n",
              "      <td>/content/FastCharge_000066_CH25_structure.json</td>\n",
              "    </tr>\n",
              "    <tr>\n",
              "      <th>2</th>\n",
              "      <td>beep.structure</td>\n",
              "      <td>ProcessedCyclerRun</td>\n",
              "      <td>EL150800460659</td>\n",
              "      <td>2017-05-12_TESTS\\20170512-6C-40PER_3_6C.SDU</td>\n",
              "      <td>32.0</td>\n",
              "      <td>2020.6.2-1674d80</td>\n",
              "      <td>/content/FastCharge_000065_CH33_structure.json</td>\n",
              "    </tr>\n",
              "    <tr>\n",
              "      <th>3</th>\n",
              "      <td>beep.structure</td>\n",
              "      <td>ProcessedCyclerRun</td>\n",
              "      <td>el150800460513</td>\n",
              "      <td>2017-06-30_tests\\20170630-5_6C_65per_3C.sdu</td>\n",
              "      <td>41.0</td>\n",
              "      <td>2020.10.19.20-8667111</td>\n",
              "      <td>/content/FastCharge_000053_CH42_structure.json</td>\n",
              "    </tr>\n",
              "    <tr>\n",
              "      <th>4</th>\n",
              "      <td>beep.structure</td>\n",
              "      <td>ProcessedCyclerRun</td>\n",
              "      <td>el150800737314</td>\n",
              "      <td>2018-04-12_batch8\\20180412-5_6C_36per_4_3C_new...</td>\n",
              "      <td>20.0</td>\n",
              "      <td>2020.10.19.20-8667111</td>\n",
              "      <td>/content/FastCharge_000012_CH21_structure.json</td>\n",
              "    </tr>\n",
              "    <tr>\n",
              "      <th>...</th>\n",
              "      <td>...</td>\n",
              "      <td>...</td>\n",
              "      <td>...</td>\n",
              "      <td>...</td>\n",
              "      <td>...</td>\n",
              "      <td>...</td>\n",
              "      <td>...</td>\n",
              "    </tr>\n",
              "    <tr>\n",
              "      <th>135</th>\n",
              "      <td>beep.structure</td>\n",
              "      <td>ProcessedCyclerRun</td>\n",
              "      <td>el150800460526</td>\n",
              "      <td>2017-06-30_tests\\20170630-5_6C_5per_4_75C.sdu</td>\n",
              "      <td>40.0</td>\n",
              "      <td>2020.10.19.20-8667111</td>\n",
              "      <td>/content/FastCharge_000052_CH41_structure.json</td>\n",
              "    </tr>\n",
              "    <tr>\n",
              "      <th>136</th>\n",
              "      <td>beep.structure</td>\n",
              "      <td>ProcessedCyclerRun</td>\n",
              "      <td>el150800460451</td>\n",
              "      <td>2017-06-30_tests\\20170630-3_6C_9per_5C.sdu</td>\n",
              "      <td>15.0</td>\n",
              "      <td>2020.10.19.20-8667111</td>\n",
              "      <td>/content/FastCharge_000043_CH16_structure.json</td>\n",
              "    </tr>\n",
              "    <tr>\n",
              "      <th>137</th>\n",
              "      <td>beep.structure</td>\n",
              "      <td>ProcessedCyclerRun</td>\n",
              "      <td>el150800737368</td>\n",
              "      <td>2018-04-12_batch8\\20180412-5C_67per_4C_newstru...</td>\n",
              "      <td>33.0</td>\n",
              "      <td>2020.10.19.20-8667111</td>\n",
              "      <td>/content/FastCharge_000002_CH34_structure.json</td>\n",
              "    </tr>\n",
              "    <tr>\n",
              "      <th>138</th>\n",
              "      <td>beep.structure</td>\n",
              "      <td>ProcessedCyclerRun</td>\n",
              "      <td>el150800460478</td>\n",
              "      <td>2017-06-30_tests\\20170630-4_4C_24per_5C.sdu</td>\n",
              "      <td>16.0</td>\n",
              "      <td>2020.10.19.20-8667111</td>\n",
              "      <td>/content/FastCharge_000016_CH17_structure.json</td>\n",
              "    </tr>\n",
              "    <tr>\n",
              "      <th>139</th>\n",
              "      <td>beep.structure</td>\n",
              "      <td>ProcessedCyclerRun</td>\n",
              "      <td>EL150800460485</td>\n",
              "      <td>2017-05-12_TESTS\\20170512-8C-35PER_3_6C.SDU</td>\n",
              "      <td>46.0</td>\n",
              "      <td>2020.8.21-6702566</td>\n",
              "      <td>/content/FastCharge_000008_CH47_structure.json</td>\n",
              "    </tr>\n",
              "  </tbody>\n",
              "</table>\n",
              "<p>140 rows × 7 columns</p>\n",
              "</div>\n",
              "      <button class=\"colab-df-convert\" onclick=\"convertToInteractive('df-cb3500d3-098c-4104-b615-5635f7afecb1')\"\n",
              "              title=\"Convert this dataframe to an interactive table.\"\n",
              "              style=\"display:none;\">\n",
              "        \n",
              "  <svg xmlns=\"http://www.w3.org/2000/svg\" height=\"24px\"viewBox=\"0 0 24 24\"\n",
              "       width=\"24px\">\n",
              "    <path d=\"M0 0h24v24H0V0z\" fill=\"none\"/>\n",
              "    <path d=\"M18.56 5.44l.94 2.06.94-2.06 2.06-.94-2.06-.94-.94-2.06-.94 2.06-2.06.94zm-11 1L8.5 8.5l.94-2.06 2.06-.94-2.06-.94L8.5 2.5l-.94 2.06-2.06.94zm10 10l.94 2.06.94-2.06 2.06-.94-2.06-.94-.94-2.06-.94 2.06-2.06.94z\"/><path d=\"M17.41 7.96l-1.37-1.37c-.4-.4-.92-.59-1.43-.59-.52 0-1.04.2-1.43.59L10.3 9.45l-7.72 7.72c-.78.78-.78 2.05 0 2.83L4 21.41c.39.39.9.59 1.41.59.51 0 1.02-.2 1.41-.59l7.78-7.78 2.81-2.81c.8-.78.8-2.07 0-2.86zM5.41 20L4 18.59l7.72-7.72 1.47 1.35L5.41 20z\"/>\n",
              "  </svg>\n",
              "      </button>\n",
              "      \n",
              "  <style>\n",
              "    .colab-df-container {\n",
              "      display:flex;\n",
              "      flex-wrap:wrap;\n",
              "      gap: 12px;\n",
              "    }\n",
              "\n",
              "    .colab-df-convert {\n",
              "      background-color: #E8F0FE;\n",
              "      border: none;\n",
              "      border-radius: 50%;\n",
              "      cursor: pointer;\n",
              "      display: none;\n",
              "      fill: #1967D2;\n",
              "      height: 32px;\n",
              "      padding: 0 0 0 0;\n",
              "      width: 32px;\n",
              "    }\n",
              "\n",
              "    .colab-df-convert:hover {\n",
              "      background-color: #E2EBFA;\n",
              "      box-shadow: 0px 1px 2px rgba(60, 64, 67, 0.3), 0px 1px 3px 1px rgba(60, 64, 67, 0.15);\n",
              "      fill: #174EA6;\n",
              "    }\n",
              "\n",
              "    [theme=dark] .colab-df-convert {\n",
              "      background-color: #3B4455;\n",
              "      fill: #D2E3FC;\n",
              "    }\n",
              "\n",
              "    [theme=dark] .colab-df-convert:hover {\n",
              "      background-color: #434B5C;\n",
              "      box-shadow: 0px 1px 3px 1px rgba(0, 0, 0, 0.15);\n",
              "      filter: drop-shadow(0px 1px 2px rgba(0, 0, 0, 0.3));\n",
              "      fill: #FFFFFF;\n",
              "    }\n",
              "  </style>\n",
              "\n",
              "      <script>\n",
              "        const buttonEl =\n",
              "          document.querySelector('#df-cb3500d3-098c-4104-b615-5635f7afecb1 button.colab-df-convert');\n",
              "        buttonEl.style.display =\n",
              "          google.colab.kernel.accessAllowed ? 'block' : 'none';\n",
              "\n",
              "        async function convertToInteractive(key) {\n",
              "          const element = document.querySelector('#df-cb3500d3-098c-4104-b615-5635f7afecb1');\n",
              "          const dataTable =\n",
              "            await google.colab.kernel.invokeFunction('convertToInteractive',\n",
              "                                                     [key], {});\n",
              "          if (!dataTable) return;\n",
              "\n",
              "          const docLinkHtml = 'Like what you see? Visit the ' +\n",
              "            '<a target=\"_blank\" href=https://colab.research.google.com/notebooks/data_table.ipynb>data table notebook</a>'\n",
              "            + ' to learn more about interactive tables.';\n",
              "          element.innerHTML = '';\n",
              "          dataTable['output_type'] = 'display_data';\n",
              "          await google.colab.output.renderOutput(dataTable, element);\n",
              "          const docLink = document.createElement('div');\n",
              "          docLink.innerHTML = docLinkHtml;\n",
              "          element.appendChild(docLink);\n",
              "        }\n",
              "      </script>\n",
              "    </div>\n",
              "  </div>\n",
              "  "
            ]
          },
          "metadata": {},
          "execution_count": 120
        }
      ]
    },
    {
      "cell_type": "code",
      "source": [
        "meta.barcode.str.lower().value_counts()"
      ],
      "metadata": {
        "colab": {
          "base_uri": "https://localhost:8080/"
        },
        "id": "pbYDHJROfXbn",
        "outputId": "47163438-529e-4794-fb80-ec98eb5d092c"
      },
      "execution_count": 71,
      "outputs": [
        {
          "output_type": "execute_result",
          "data": {
            "text/plain": [
              "el150800464865    2\n",
              "el150800460514    2\n",
              "el150800460486    2\n",
              "el150800460623    2\n",
              "el150800464977    2\n",
              "                 ..\n",
              "el150800463871    1\n",
              "el150800453113    1\n",
              "el150800737377    1\n",
              "el150800460631    1\n",
              "el150800460485    1\n",
              "Name: barcode, Length: 135, dtype: int64"
            ]
          },
          "metadata": {},
          "execution_count": 71
        }
      ]
    },
    {
      "cell_type": "code",
      "source": [
        "meta.protocol.str.lower().value_counts()"
      ],
      "metadata": {
        "colab": {
          "base_uri": "https://localhost:8080/"
        },
        "id": "wTV527sWflKc",
        "outputId": "0ee5fc01-e60f-413a-f3ec-67e84a33b074"
      },
      "execution_count": 72,
      "outputs": [
        {
          "output_type": "execute_result",
          "data": {
            "text/plain": [
              "2018-04-12_batch8\\20180412-4_8c_80per_4_8c_newstructure.sdu    8\n",
              "2018-04-12_batch8\\20180412-5_6c_36per_4_3c_newstructure.sdu    8\n",
              "2018-04-12_batch8\\20180412-5c_67per_4c_newstructure.sdu        8\n",
              "2018-04-12_batch8\\20180412-5_6c_19per_4_6c_newstructure.sdu    8\n",
              "2018-04-12_batch8\\20180412-5_3c_54per_4c_newstructure.sdu      8\n",
              "                                                              ..\n",
              "2017-06-30_tests\\20170630-4_4c_55per_6c.sdu                    1\n",
              "2017-06-30_tests\\20170630-6c_60per_3c.sdu                      1\n",
              "2017-06-30_tests\\20170630-5_6c_47per_4c.sdu                    1\n",
              "2017-06-30_tests\\20170630-5_6c_58per_3_5c.sdu                  1\n",
              "2017-06-30_tests\\20170630-4_4c_24per_5c.sdu                    1\n",
              "Name: protocol, Length: 72, dtype: int64"
            ]
          },
          "metadata": {},
          "execution_count": 72
        }
      ]
    },
    {
      "cell_type": "code",
      "source": [
        "meta[[\"protocol_date\",\"protocol_policy\"]]=meta.protocol.str.split(\"\\\\\", expand=True)"
      ],
      "metadata": {
        "id": "-TMlHxP2fz9l"
      },
      "execution_count": 130,
      "outputs": []
    },
    {
      "cell_type": "code",
      "source": [
        "meta.protocol_date.value_counts()"
      ],
      "metadata": {
        "colab": {
          "base_uri": "https://localhost:8080/"
        },
        "id": "XFna0ZK_ggN3",
        "outputId": "2eea9721-3c0f-46ba-aa0f-e4fd4cd9dc83"
      },
      "execution_count": 78,
      "outputs": [
        {
          "output_type": "execute_result",
          "data": {
            "text/plain": [
              "2017-05-12_TESTS     50\n",
              "2018-04-12_batch8    47\n",
              "2017-06-30_tests     43\n",
              "Name: protocol_date, dtype: int64"
            ]
          },
          "metadata": {},
          "execution_count": 78
        }
      ]
    },
    {
      "cell_type": "code",
      "source": [
        "meta[meta.protocol_policy.str.contains(\"newstructure\")].shape"
      ],
      "metadata": {
        "colab": {
          "base_uri": "https://localhost:8080/"
        },
        "id": "1OCU_GuNggQ-",
        "outputId": "9d41fec7-0dba-4528-cdc8-d06f02adc3cd"
      },
      "execution_count": 81,
      "outputs": [
        {
          "output_type": "execute_result",
          "data": {
            "text/plain": [
              "(47, 9)"
            ]
          },
          "metadata": {},
          "execution_count": 81
        }
      ]
    },
    {
      "cell_type": "code",
      "source": [
        "meta[~meta.protocol_policy.str.contains(\"newstructure\")].shape"
      ],
      "metadata": {
        "colab": {
          "base_uri": "https://localhost:8080/"
        },
        "id": "zUMHRvG-ggTn",
        "outputId": "9075136a-9e3e-4f4a-a8d4-7d15c720ae30"
      },
      "execution_count": 82,
      "outputs": [
        {
          "output_type": "execute_result",
          "data": {
            "text/plain": [
              "(93, 9)"
            ]
          },
          "metadata": {},
          "execution_count": 82
        }
      ]
    },
    {
      "cell_type": "code",
      "source": [
        "meta[meta.protocol_date==\"2017-06-30_tests\"].shape"
      ],
      "metadata": {
        "colab": {
          "base_uri": "https://localhost:8080/"
        },
        "id": "JkuKPgsMhiVA",
        "outputId": "4485e0bf-1503-4638-d617-708d85847b75"
      },
      "execution_count": 84,
      "outputs": [
        {
          "output_type": "execute_result",
          "data": {
            "text/plain": [
              "(43, 9)"
            ]
          },
          "metadata": {},
          "execution_count": 84
        }
      ]
    },
    {
      "cell_type": "code",
      "source": [
        "meta[(meta.protocol_date==\"2017-06-30_tests\") & (meta.protocol_policy.str.contains(\"newstructure\"))].shape"
      ],
      "metadata": {
        "colab": {
          "base_uri": "https://localhost:8080/"
        },
        "id": "BUGJ2WYChiYJ",
        "outputId": "7bfc69c7-81a2-475a-a4cc-889a6d030f15"
      },
      "execution_count": 87,
      "outputs": [
        {
          "output_type": "execute_result",
          "data": {
            "text/plain": [
              "(0, 9)"
            ]
          },
          "metadata": {},
          "execution_count": 87
        }
      ]
    },
    {
      "cell_type": "code",
      "source": [
        "meta[(meta.protocol_date==\"2018-04-12_batch8\") & (meta.protocol_policy.str.contains(\"newstructure\"))].shape"
      ],
      "metadata": {
        "colab": {
          "base_uri": "https://localhost:8080/"
        },
        "id": "tAmm7A7HhibW",
        "outputId": "bc5a3084-e543-46cb-9ba7-d8588de17c5c"
      },
      "execution_count": 88,
      "outputs": [
        {
          "output_type": "execute_result",
          "data": {
            "text/plain": [
              "(47, 9)"
            ]
          },
          "metadata": {},
          "execution_count": 88
        }
      ]
    },
    {
      "cell_type": "code",
      "source": [
        "meta[(meta.protocol_date==\"2017-05-12_TESTS\") & (meta.protocol_policy.str.contains(\"newstructure\"))].shape"
      ],
      "metadata": {
        "colab": {
          "base_uri": "https://localhost:8080/"
        },
        "id": "fBNhMvtghie9",
        "outputId": "aa2dc748-c9d2-4a01-ab78-83869dba9ed4"
      },
      "execution_count": 89,
      "outputs": [
        {
          "output_type": "execute_result",
          "data": {
            "text/plain": [
              "(0, 9)"
            ]
          },
          "metadata": {},
          "execution_count": 89
        }
      ]
    },
    {
      "cell_type": "code",
      "source": [
        "meta[(meta.protocol_date==\"2018-04-12_batch8\")].head(2)"
      ],
      "metadata": {
        "colab": {
          "base_uri": "https://localhost:8080/",
          "height": 226
        },
        "id": "-ywTjCTZhih0",
        "outputId": "501d2d22-1994-4d26-e97e-fa288acd073a"
      },
      "execution_count": 92,
      "outputs": [
        {
          "output_type": "execute_result",
          "data": {
            "text/plain": [
              "          @module              @class         barcode  \\\n",
              "4  beep.structure  ProcessedCyclerRun  el150800737314   \n",
              "5  beep.structure  ProcessedCyclerRun  el150800737304   \n",
              "\n",
              "                                            protocol  channel_id  \\\n",
              "4  2018-04-12_batch8\\20180412-5_6C_36per_4_3C_new...        20.0   \n",
              "5  2018-04-12_batch8\\20180412-5C_67per_4C_newstru...        41.0   \n",
              "\n",
              "                @version                                        filename  \\\n",
              "4  2020.10.19.20-8667111  /content/FastCharge_000012_CH21_structure.json   \n",
              "5  2020.10.19.20-8667111  /content/FastCharge_000002_CH42_structure.json   \n",
              "\n",
              "       protocol_date                            protocol_policy  \n",
              "4  2018-04-12_batch8  20180412-5_6C_36per_4_3C_newstructure.sdu  \n",
              "5  2018-04-12_batch8      20180412-5C_67per_4C_newstructure.sdu  "
            ],
            "text/html": [
              "\n",
              "  <div id=\"df-ad7f126a-729e-479f-ac5d-af02f60c53d2\">\n",
              "    <div class=\"colab-df-container\">\n",
              "      <div>\n",
              "<style scoped>\n",
              "    .dataframe tbody tr th:only-of-type {\n",
              "        vertical-align: middle;\n",
              "    }\n",
              "\n",
              "    .dataframe tbody tr th {\n",
              "        vertical-align: top;\n",
              "    }\n",
              "\n",
              "    .dataframe thead th {\n",
              "        text-align: right;\n",
              "    }\n",
              "</style>\n",
              "<table border=\"1\" class=\"dataframe\">\n",
              "  <thead>\n",
              "    <tr style=\"text-align: right;\">\n",
              "      <th></th>\n",
              "      <th>@module</th>\n",
              "      <th>@class</th>\n",
              "      <th>barcode</th>\n",
              "      <th>protocol</th>\n",
              "      <th>channel_id</th>\n",
              "      <th>@version</th>\n",
              "      <th>filename</th>\n",
              "      <th>protocol_date</th>\n",
              "      <th>protocol_policy</th>\n",
              "    </tr>\n",
              "  </thead>\n",
              "  <tbody>\n",
              "    <tr>\n",
              "      <th>4</th>\n",
              "      <td>beep.structure</td>\n",
              "      <td>ProcessedCyclerRun</td>\n",
              "      <td>el150800737314</td>\n",
              "      <td>2018-04-12_batch8\\20180412-5_6C_36per_4_3C_new...</td>\n",
              "      <td>20.0</td>\n",
              "      <td>2020.10.19.20-8667111</td>\n",
              "      <td>/content/FastCharge_000012_CH21_structure.json</td>\n",
              "      <td>2018-04-12_batch8</td>\n",
              "      <td>20180412-5_6C_36per_4_3C_newstructure.sdu</td>\n",
              "    </tr>\n",
              "    <tr>\n",
              "      <th>5</th>\n",
              "      <td>beep.structure</td>\n",
              "      <td>ProcessedCyclerRun</td>\n",
              "      <td>el150800737304</td>\n",
              "      <td>2018-04-12_batch8\\20180412-5C_67per_4C_newstru...</td>\n",
              "      <td>41.0</td>\n",
              "      <td>2020.10.19.20-8667111</td>\n",
              "      <td>/content/FastCharge_000002_CH42_structure.json</td>\n",
              "      <td>2018-04-12_batch8</td>\n",
              "      <td>20180412-5C_67per_4C_newstructure.sdu</td>\n",
              "    </tr>\n",
              "  </tbody>\n",
              "</table>\n",
              "</div>\n",
              "      <button class=\"colab-df-convert\" onclick=\"convertToInteractive('df-ad7f126a-729e-479f-ac5d-af02f60c53d2')\"\n",
              "              title=\"Convert this dataframe to an interactive table.\"\n",
              "              style=\"display:none;\">\n",
              "        \n",
              "  <svg xmlns=\"http://www.w3.org/2000/svg\" height=\"24px\"viewBox=\"0 0 24 24\"\n",
              "       width=\"24px\">\n",
              "    <path d=\"M0 0h24v24H0V0z\" fill=\"none\"/>\n",
              "    <path d=\"M18.56 5.44l.94 2.06.94-2.06 2.06-.94-2.06-.94-.94-2.06-.94 2.06-2.06.94zm-11 1L8.5 8.5l.94-2.06 2.06-.94-2.06-.94L8.5 2.5l-.94 2.06-2.06.94zm10 10l.94 2.06.94-2.06 2.06-.94-2.06-.94-.94-2.06-.94 2.06-2.06.94z\"/><path d=\"M17.41 7.96l-1.37-1.37c-.4-.4-.92-.59-1.43-.59-.52 0-1.04.2-1.43.59L10.3 9.45l-7.72 7.72c-.78.78-.78 2.05 0 2.83L4 21.41c.39.39.9.59 1.41.59.51 0 1.02-.2 1.41-.59l7.78-7.78 2.81-2.81c.8-.78.8-2.07 0-2.86zM5.41 20L4 18.59l7.72-7.72 1.47 1.35L5.41 20z\"/>\n",
              "  </svg>\n",
              "      </button>\n",
              "      \n",
              "  <style>\n",
              "    .colab-df-container {\n",
              "      display:flex;\n",
              "      flex-wrap:wrap;\n",
              "      gap: 12px;\n",
              "    }\n",
              "\n",
              "    .colab-df-convert {\n",
              "      background-color: #E8F0FE;\n",
              "      border: none;\n",
              "      border-radius: 50%;\n",
              "      cursor: pointer;\n",
              "      display: none;\n",
              "      fill: #1967D2;\n",
              "      height: 32px;\n",
              "      padding: 0 0 0 0;\n",
              "      width: 32px;\n",
              "    }\n",
              "\n",
              "    .colab-df-convert:hover {\n",
              "      background-color: #E2EBFA;\n",
              "      box-shadow: 0px 1px 2px rgba(60, 64, 67, 0.3), 0px 1px 3px 1px rgba(60, 64, 67, 0.15);\n",
              "      fill: #174EA6;\n",
              "    }\n",
              "\n",
              "    [theme=dark] .colab-df-convert {\n",
              "      background-color: #3B4455;\n",
              "      fill: #D2E3FC;\n",
              "    }\n",
              "\n",
              "    [theme=dark] .colab-df-convert:hover {\n",
              "      background-color: #434B5C;\n",
              "      box-shadow: 0px 1px 3px 1px rgba(0, 0, 0, 0.15);\n",
              "      filter: drop-shadow(0px 1px 2px rgba(0, 0, 0, 0.3));\n",
              "      fill: #FFFFFF;\n",
              "    }\n",
              "  </style>\n",
              "\n",
              "      <script>\n",
              "        const buttonEl =\n",
              "          document.querySelector('#df-ad7f126a-729e-479f-ac5d-af02f60c53d2 button.colab-df-convert');\n",
              "        buttonEl.style.display =\n",
              "          google.colab.kernel.accessAllowed ? 'block' : 'none';\n",
              "\n",
              "        async function convertToInteractive(key) {\n",
              "          const element = document.querySelector('#df-ad7f126a-729e-479f-ac5d-af02f60c53d2');\n",
              "          const dataTable =\n",
              "            await google.colab.kernel.invokeFunction('convertToInteractive',\n",
              "                                                     [key], {});\n",
              "          if (!dataTable) return;\n",
              "\n",
              "          const docLinkHtml = 'Like what you see? Visit the ' +\n",
              "            '<a target=\"_blank\" href=https://colab.research.google.com/notebooks/data_table.ipynb>data table notebook</a>'\n",
              "            + ' to learn more about interactive tables.';\n",
              "          element.innerHTML = '';\n",
              "          dataTable['output_type'] = 'display_data';\n",
              "          await google.colab.output.renderOutput(dataTable, element);\n",
              "          const docLink = document.createElement('div');\n",
              "          docLink.innerHTML = docLinkHtml;\n",
              "          element.appendChild(docLink);\n",
              "        }\n",
              "      </script>\n",
              "    </div>\n",
              "  </div>\n",
              "  "
            ]
          },
          "metadata": {},
          "execution_count": 92
        }
      ]
    },
    {
      "cell_type": "code",
      "source": [
        "meta.channel_id = pd.to_numeric(meta.channel_id, downcast=\"integer\")"
      ],
      "metadata": {
        "id": "s8c9K6rJsJ4Q"
      },
      "execution_count": 139,
      "outputs": []
    },
    {
      "cell_type": "code",
      "source": [
        "meta = meta.set_index(\"filename\")"
      ],
      "metadata": {
        "id": "VdyrjjgLusgy"
      },
      "execution_count": 142,
      "outputs": []
    },
    {
      "cell_type": "code",
      "source": [
        "meta.columns"
      ],
      "metadata": {
        "colab": {
          "base_uri": "https://localhost:8080/"
        },
        "id": "ZiMG9exbROgP",
        "outputId": "5f22086c-05e6-4412-cbb2-289f1d8a58ed"
      },
      "execution_count": 293,
      "outputs": [
        {
          "output_type": "execute_result",
          "data": {
            "text/plain": [
              "Index(['@module', '@class', 'barcode', 'protocol', 'channel_id', '@version',\n",
              "       'protocol_date', 'protocol_policy'],\n",
              "      dtype='object')"
            ]
          },
          "metadata": {},
          "execution_count": 293
        }
      ]
    },
    {
      "cell_type": "code",
      "source": [
        "meta.drop(columns=['@module', '@class','@version', 'protocol'])#.sort_values(by=\"protocol_date\")"
      ],
      "metadata": {
        "colab": {
          "base_uri": "https://localhost:8080/",
          "height": 455
        },
        "id": "66ql2CXnRLOD",
        "outputId": "21b30175-5941-4f0c-e841-120caaa4c7cd"
      },
      "execution_count": 297,
      "outputs": [
        {
          "output_type": "execute_result",
          "data": {
            "text/plain": [
              "                                                       barcode  channel_id  \\\n",
              "filename                                                                     \n",
              "/content/FastCharge_000072_CH34_structure.json  el150800460641          33   \n",
              "/content/FastCharge_000066_CH25_structure.json  EL150800460630          24   \n",
              "/content/FastCharge_000065_CH33_structure.json  EL150800460659          32   \n",
              "/content/FastCharge_000053_CH42_structure.json  el150800460513          41   \n",
              "/content/FastCharge_000012_CH21_structure.json  el150800737314          20   \n",
              "...                                                        ...         ...   \n",
              "/content/FastCharge_000052_CH41_structure.json  el150800460526          40   \n",
              "/content/FastCharge_000043_CH16_structure.json  el150800460451          15   \n",
              "/content/FastCharge_000002_CH34_structure.json  el150800737368          33   \n",
              "/content/FastCharge_000016_CH17_structure.json  el150800460478          16   \n",
              "/content/FastCharge_000008_CH47_structure.json  EL150800460485          46   \n",
              "\n",
              "                                                    protocol_date  \\\n",
              "filename                                                            \n",
              "/content/FastCharge_000072_CH34_structure.json   2017-06-30_tests   \n",
              "/content/FastCharge_000066_CH25_structure.json   2017-05-12_TESTS   \n",
              "/content/FastCharge_000065_CH33_structure.json   2017-05-12_TESTS   \n",
              "/content/FastCharge_000053_CH42_structure.json   2017-06-30_tests   \n",
              "/content/FastCharge_000012_CH21_structure.json  2018-04-12_batch8   \n",
              "...                                                           ...   \n",
              "/content/FastCharge_000052_CH41_structure.json   2017-06-30_tests   \n",
              "/content/FastCharge_000043_CH16_structure.json   2017-06-30_tests   \n",
              "/content/FastCharge_000002_CH34_structure.json  2018-04-12_batch8   \n",
              "/content/FastCharge_000016_CH17_structure.json   2017-06-30_tests   \n",
              "/content/FastCharge_000008_CH47_structure.json   2017-05-12_TESTS   \n",
              "\n",
              "                                                                          protocol_policy  \n",
              "filename                                                                                   \n",
              "/content/FastCharge_000072_CH34_structure.json                 20170630-5_2C_58per_4C.sdu  \n",
              "/content/FastCharge_000066_CH25_structure.json                   20170512-6C-40PER_3C.SDU  \n",
              "/content/FastCharge_000065_CH33_structure.json                 20170512-6C-40PER_3_6C.SDU  \n",
              "/content/FastCharge_000053_CH42_structure.json                 20170630-5_6C_65per_3C.sdu  \n",
              "/content/FastCharge_000012_CH21_structure.json  20180412-5_6C_36per_4_3C_newstructure.sdu  \n",
              "...                                                                                   ...  \n",
              "/content/FastCharge_000052_CH41_structure.json               20170630-5_6C_5per_4_75C.sdu  \n",
              "/content/FastCharge_000043_CH16_structure.json                  20170630-3_6C_9per_5C.sdu  \n",
              "/content/FastCharge_000002_CH34_structure.json      20180412-5C_67per_4C_newstructure.sdu  \n",
              "/content/FastCharge_000016_CH17_structure.json                 20170630-4_4C_24per_5C.sdu  \n",
              "/content/FastCharge_000008_CH47_structure.json                 20170512-8C-35PER_3_6C.SDU  \n",
              "\n",
              "[140 rows x 4 columns]"
            ],
            "text/html": [
              "\n",
              "  <div id=\"df-ddddffed-fb86-4949-a9ac-d9ac47be3f27\">\n",
              "    <div class=\"colab-df-container\">\n",
              "      <div>\n",
              "<style scoped>\n",
              "    .dataframe tbody tr th:only-of-type {\n",
              "        vertical-align: middle;\n",
              "    }\n",
              "\n",
              "    .dataframe tbody tr th {\n",
              "        vertical-align: top;\n",
              "    }\n",
              "\n",
              "    .dataframe thead th {\n",
              "        text-align: right;\n",
              "    }\n",
              "</style>\n",
              "<table border=\"1\" class=\"dataframe\">\n",
              "  <thead>\n",
              "    <tr style=\"text-align: right;\">\n",
              "      <th></th>\n",
              "      <th>barcode</th>\n",
              "      <th>channel_id</th>\n",
              "      <th>protocol_date</th>\n",
              "      <th>protocol_policy</th>\n",
              "    </tr>\n",
              "    <tr>\n",
              "      <th>filename</th>\n",
              "      <th></th>\n",
              "      <th></th>\n",
              "      <th></th>\n",
              "      <th></th>\n",
              "    </tr>\n",
              "  </thead>\n",
              "  <tbody>\n",
              "    <tr>\n",
              "      <th>/content/FastCharge_000072_CH34_structure.json</th>\n",
              "      <td>el150800460641</td>\n",
              "      <td>33</td>\n",
              "      <td>2017-06-30_tests</td>\n",
              "      <td>20170630-5_2C_58per_4C.sdu</td>\n",
              "    </tr>\n",
              "    <tr>\n",
              "      <th>/content/FastCharge_000066_CH25_structure.json</th>\n",
              "      <td>EL150800460630</td>\n",
              "      <td>24</td>\n",
              "      <td>2017-05-12_TESTS</td>\n",
              "      <td>20170512-6C-40PER_3C.SDU</td>\n",
              "    </tr>\n",
              "    <tr>\n",
              "      <th>/content/FastCharge_000065_CH33_structure.json</th>\n",
              "      <td>EL150800460659</td>\n",
              "      <td>32</td>\n",
              "      <td>2017-05-12_TESTS</td>\n",
              "      <td>20170512-6C-40PER_3_6C.SDU</td>\n",
              "    </tr>\n",
              "    <tr>\n",
              "      <th>/content/FastCharge_000053_CH42_structure.json</th>\n",
              "      <td>el150800460513</td>\n",
              "      <td>41</td>\n",
              "      <td>2017-06-30_tests</td>\n",
              "      <td>20170630-5_6C_65per_3C.sdu</td>\n",
              "    </tr>\n",
              "    <tr>\n",
              "      <th>/content/FastCharge_000012_CH21_structure.json</th>\n",
              "      <td>el150800737314</td>\n",
              "      <td>20</td>\n",
              "      <td>2018-04-12_batch8</td>\n",
              "      <td>20180412-5_6C_36per_4_3C_newstructure.sdu</td>\n",
              "    </tr>\n",
              "    <tr>\n",
              "      <th>...</th>\n",
              "      <td>...</td>\n",
              "      <td>...</td>\n",
              "      <td>...</td>\n",
              "      <td>...</td>\n",
              "    </tr>\n",
              "    <tr>\n",
              "      <th>/content/FastCharge_000052_CH41_structure.json</th>\n",
              "      <td>el150800460526</td>\n",
              "      <td>40</td>\n",
              "      <td>2017-06-30_tests</td>\n",
              "      <td>20170630-5_6C_5per_4_75C.sdu</td>\n",
              "    </tr>\n",
              "    <tr>\n",
              "      <th>/content/FastCharge_000043_CH16_structure.json</th>\n",
              "      <td>el150800460451</td>\n",
              "      <td>15</td>\n",
              "      <td>2017-06-30_tests</td>\n",
              "      <td>20170630-3_6C_9per_5C.sdu</td>\n",
              "    </tr>\n",
              "    <tr>\n",
              "      <th>/content/FastCharge_000002_CH34_structure.json</th>\n",
              "      <td>el150800737368</td>\n",
              "      <td>33</td>\n",
              "      <td>2018-04-12_batch8</td>\n",
              "      <td>20180412-5C_67per_4C_newstructure.sdu</td>\n",
              "    </tr>\n",
              "    <tr>\n",
              "      <th>/content/FastCharge_000016_CH17_structure.json</th>\n",
              "      <td>el150800460478</td>\n",
              "      <td>16</td>\n",
              "      <td>2017-06-30_tests</td>\n",
              "      <td>20170630-4_4C_24per_5C.sdu</td>\n",
              "    </tr>\n",
              "    <tr>\n",
              "      <th>/content/FastCharge_000008_CH47_structure.json</th>\n",
              "      <td>EL150800460485</td>\n",
              "      <td>46</td>\n",
              "      <td>2017-05-12_TESTS</td>\n",
              "      <td>20170512-8C-35PER_3_6C.SDU</td>\n",
              "    </tr>\n",
              "  </tbody>\n",
              "</table>\n",
              "<p>140 rows × 4 columns</p>\n",
              "</div>\n",
              "      <button class=\"colab-df-convert\" onclick=\"convertToInteractive('df-ddddffed-fb86-4949-a9ac-d9ac47be3f27')\"\n",
              "              title=\"Convert this dataframe to an interactive table.\"\n",
              "              style=\"display:none;\">\n",
              "        \n",
              "  <svg xmlns=\"http://www.w3.org/2000/svg\" height=\"24px\"viewBox=\"0 0 24 24\"\n",
              "       width=\"24px\">\n",
              "    <path d=\"M0 0h24v24H0V0z\" fill=\"none\"/>\n",
              "    <path d=\"M18.56 5.44l.94 2.06.94-2.06 2.06-.94-2.06-.94-.94-2.06-.94 2.06-2.06.94zm-11 1L8.5 8.5l.94-2.06 2.06-.94-2.06-.94L8.5 2.5l-.94 2.06-2.06.94zm10 10l.94 2.06.94-2.06 2.06-.94-2.06-.94-.94-2.06-.94 2.06-2.06.94z\"/><path d=\"M17.41 7.96l-1.37-1.37c-.4-.4-.92-.59-1.43-.59-.52 0-1.04.2-1.43.59L10.3 9.45l-7.72 7.72c-.78.78-.78 2.05 0 2.83L4 21.41c.39.39.9.59 1.41.59.51 0 1.02-.2 1.41-.59l7.78-7.78 2.81-2.81c.8-.78.8-2.07 0-2.86zM5.41 20L4 18.59l7.72-7.72 1.47 1.35L5.41 20z\"/>\n",
              "  </svg>\n",
              "      </button>\n",
              "      \n",
              "  <style>\n",
              "    .colab-df-container {\n",
              "      display:flex;\n",
              "      flex-wrap:wrap;\n",
              "      gap: 12px;\n",
              "    }\n",
              "\n",
              "    .colab-df-convert {\n",
              "      background-color: #E8F0FE;\n",
              "      border: none;\n",
              "      border-radius: 50%;\n",
              "      cursor: pointer;\n",
              "      display: none;\n",
              "      fill: #1967D2;\n",
              "      height: 32px;\n",
              "      padding: 0 0 0 0;\n",
              "      width: 32px;\n",
              "    }\n",
              "\n",
              "    .colab-df-convert:hover {\n",
              "      background-color: #E2EBFA;\n",
              "      box-shadow: 0px 1px 2px rgba(60, 64, 67, 0.3), 0px 1px 3px 1px rgba(60, 64, 67, 0.15);\n",
              "      fill: #174EA6;\n",
              "    }\n",
              "\n",
              "    [theme=dark] .colab-df-convert {\n",
              "      background-color: #3B4455;\n",
              "      fill: #D2E3FC;\n",
              "    }\n",
              "\n",
              "    [theme=dark] .colab-df-convert:hover {\n",
              "      background-color: #434B5C;\n",
              "      box-shadow: 0px 1px 3px 1px rgba(0, 0, 0, 0.15);\n",
              "      filter: drop-shadow(0px 1px 2px rgba(0, 0, 0, 0.3));\n",
              "      fill: #FFFFFF;\n",
              "    }\n",
              "  </style>\n",
              "\n",
              "      <script>\n",
              "        const buttonEl =\n",
              "          document.querySelector('#df-ddddffed-fb86-4949-a9ac-d9ac47be3f27 button.colab-df-convert');\n",
              "        buttonEl.style.display =\n",
              "          google.colab.kernel.accessAllowed ? 'block' : 'none';\n",
              "\n",
              "        async function convertToInteractive(key) {\n",
              "          const element = document.querySelector('#df-ddddffed-fb86-4949-a9ac-d9ac47be3f27');\n",
              "          const dataTable =\n",
              "            await google.colab.kernel.invokeFunction('convertToInteractive',\n",
              "                                                     [key], {});\n",
              "          if (!dataTable) return;\n",
              "\n",
              "          const docLinkHtml = 'Like what you see? Visit the ' +\n",
              "            '<a target=\"_blank\" href=https://colab.research.google.com/notebooks/data_table.ipynb>data table notebook</a>'\n",
              "            + ' to learn more about interactive tables.';\n",
              "          element.innerHTML = '';\n",
              "          dataTable['output_type'] = 'display_data';\n",
              "          await google.colab.output.renderOutput(dataTable, element);\n",
              "          const docLink = document.createElement('div');\n",
              "          docLink.innerHTML = docLinkHtml;\n",
              "          element.appendChild(docLink);\n",
              "        }\n",
              "      </script>\n",
              "    </div>\n",
              "  </div>\n",
              "  "
            ]
          },
          "metadata": {},
          "execution_count": 297
        }
      ]
    },
    {
      "cell_type": "code",
      "source": [
        "policy = meta.protocol_policy.apply(lambda x: x[9:-4]).str.rstrip(\"_newstructure\").str.lower()\n",
        "policy"
      ],
      "metadata": {
        "colab": {
          "base_uri": "https://localhost:8080/"
        },
        "id": "fD9jI7A7RojF",
        "outputId": "f6858ba3-5ab8-4c76-ca7f-afabe2b346bc"
      },
      "execution_count": 304,
      "outputs": [
        {
          "output_type": "execute_result",
          "data": {
            "text/plain": [
              "filename\n",
              "/content/FastCharge_000072_CH34_structure.json      5_2c_58per_4c\n",
              "/content/FastCharge_000066_CH25_structure.json        6c-40per_3c\n",
              "/content/FastCharge_000065_CH33_structure.json      6c-40per_3_6c\n",
              "/content/FastCharge_000053_CH42_structure.json      5_6c_65per_3c\n",
              "/content/FastCharge_000012_CH21_structure.json    5_6c_36per_4_3c\n",
              "                                                       ...       \n",
              "/content/FastCharge_000052_CH41_structure.json    5_6c_5per_4_75c\n",
              "/content/FastCharge_000043_CH16_structure.json       3_6c_9per_5c\n",
              "/content/FastCharge_000002_CH34_structure.json        5c_67per_4c\n",
              "/content/FastCharge_000016_CH17_structure.json      4_4c_24per_5c\n",
              "/content/FastCharge_000008_CH47_structure.json      8c-35per_3_6c\n",
              "Name: protocol_policy, Length: 140, dtype: object"
            ]
          },
          "metadata": {},
          "execution_count": 304
        }
      ]
    },
    {
      "cell_type": "code",
      "source": [
        "policy =policy.str.split(\"per_\", expand=True)\n",
        "policy"
      ],
      "metadata": {
        "colab": {
          "base_uri": "https://localhost:8080/",
          "height": 455
        },
        "id": "DL34B13nS792",
        "outputId": "e7efbde3-e4e7-48cf-d65f-ba10c953f634"
      },
      "execution_count": 309,
      "outputs": [
        {
          "output_type": "execute_result",
          "data": {
            "text/plain": [
              "                                                      0      1\n",
              "filename                                                      \n",
              "/content/FastCharge_000072_CH34_structure.json  5_2c_58     4c\n",
              "/content/FastCharge_000066_CH25_structure.json    6c-40     3c\n",
              "/content/FastCharge_000065_CH33_structure.json    6c-40   3_6c\n",
              "/content/FastCharge_000053_CH42_structure.json  5_6c_65     3c\n",
              "/content/FastCharge_000012_CH21_structure.json  5_6c_36   4_3c\n",
              "...                                                 ...    ...\n",
              "/content/FastCharge_000052_CH41_structure.json   5_6c_5  4_75c\n",
              "/content/FastCharge_000043_CH16_structure.json   3_6c_9     5c\n",
              "/content/FastCharge_000002_CH34_structure.json    5c_67     4c\n",
              "/content/FastCharge_000016_CH17_structure.json  4_4c_24     5c\n",
              "/content/FastCharge_000008_CH47_structure.json    8c-35   3_6c\n",
              "\n",
              "[140 rows x 2 columns]"
            ],
            "text/html": [
              "\n",
              "  <div id=\"df-c8d5eb43-f484-4f90-8777-c5a67f916a33\">\n",
              "    <div class=\"colab-df-container\">\n",
              "      <div>\n",
              "<style scoped>\n",
              "    .dataframe tbody tr th:only-of-type {\n",
              "        vertical-align: middle;\n",
              "    }\n",
              "\n",
              "    .dataframe tbody tr th {\n",
              "        vertical-align: top;\n",
              "    }\n",
              "\n",
              "    .dataframe thead th {\n",
              "        text-align: right;\n",
              "    }\n",
              "</style>\n",
              "<table border=\"1\" class=\"dataframe\">\n",
              "  <thead>\n",
              "    <tr style=\"text-align: right;\">\n",
              "      <th></th>\n",
              "      <th>0</th>\n",
              "      <th>1</th>\n",
              "    </tr>\n",
              "    <tr>\n",
              "      <th>filename</th>\n",
              "      <th></th>\n",
              "      <th></th>\n",
              "    </tr>\n",
              "  </thead>\n",
              "  <tbody>\n",
              "    <tr>\n",
              "      <th>/content/FastCharge_000072_CH34_structure.json</th>\n",
              "      <td>5_2c_58</td>\n",
              "      <td>4c</td>\n",
              "    </tr>\n",
              "    <tr>\n",
              "      <th>/content/FastCharge_000066_CH25_structure.json</th>\n",
              "      <td>6c-40</td>\n",
              "      <td>3c</td>\n",
              "    </tr>\n",
              "    <tr>\n",
              "      <th>/content/FastCharge_000065_CH33_structure.json</th>\n",
              "      <td>6c-40</td>\n",
              "      <td>3_6c</td>\n",
              "    </tr>\n",
              "    <tr>\n",
              "      <th>/content/FastCharge_000053_CH42_structure.json</th>\n",
              "      <td>5_6c_65</td>\n",
              "      <td>3c</td>\n",
              "    </tr>\n",
              "    <tr>\n",
              "      <th>/content/FastCharge_000012_CH21_structure.json</th>\n",
              "      <td>5_6c_36</td>\n",
              "      <td>4_3c</td>\n",
              "    </tr>\n",
              "    <tr>\n",
              "      <th>...</th>\n",
              "      <td>...</td>\n",
              "      <td>...</td>\n",
              "    </tr>\n",
              "    <tr>\n",
              "      <th>/content/FastCharge_000052_CH41_structure.json</th>\n",
              "      <td>5_6c_5</td>\n",
              "      <td>4_75c</td>\n",
              "    </tr>\n",
              "    <tr>\n",
              "      <th>/content/FastCharge_000043_CH16_structure.json</th>\n",
              "      <td>3_6c_9</td>\n",
              "      <td>5c</td>\n",
              "    </tr>\n",
              "    <tr>\n",
              "      <th>/content/FastCharge_000002_CH34_structure.json</th>\n",
              "      <td>5c_67</td>\n",
              "      <td>4c</td>\n",
              "    </tr>\n",
              "    <tr>\n",
              "      <th>/content/FastCharge_000016_CH17_structure.json</th>\n",
              "      <td>4_4c_24</td>\n",
              "      <td>5c</td>\n",
              "    </tr>\n",
              "    <tr>\n",
              "      <th>/content/FastCharge_000008_CH47_structure.json</th>\n",
              "      <td>8c-35</td>\n",
              "      <td>3_6c</td>\n",
              "    </tr>\n",
              "  </tbody>\n",
              "</table>\n",
              "<p>140 rows × 2 columns</p>\n",
              "</div>\n",
              "      <button class=\"colab-df-convert\" onclick=\"convertToInteractive('df-c8d5eb43-f484-4f90-8777-c5a67f916a33')\"\n",
              "              title=\"Convert this dataframe to an interactive table.\"\n",
              "              style=\"display:none;\">\n",
              "        \n",
              "  <svg xmlns=\"http://www.w3.org/2000/svg\" height=\"24px\"viewBox=\"0 0 24 24\"\n",
              "       width=\"24px\">\n",
              "    <path d=\"M0 0h24v24H0V0z\" fill=\"none\"/>\n",
              "    <path d=\"M18.56 5.44l.94 2.06.94-2.06 2.06-.94-2.06-.94-.94-2.06-.94 2.06-2.06.94zm-11 1L8.5 8.5l.94-2.06 2.06-.94-2.06-.94L8.5 2.5l-.94 2.06-2.06.94zm10 10l.94 2.06.94-2.06 2.06-.94-2.06-.94-.94-2.06-.94 2.06-2.06.94z\"/><path d=\"M17.41 7.96l-1.37-1.37c-.4-.4-.92-.59-1.43-.59-.52 0-1.04.2-1.43.59L10.3 9.45l-7.72 7.72c-.78.78-.78 2.05 0 2.83L4 21.41c.39.39.9.59 1.41.59.51 0 1.02-.2 1.41-.59l7.78-7.78 2.81-2.81c.8-.78.8-2.07 0-2.86zM5.41 20L4 18.59l7.72-7.72 1.47 1.35L5.41 20z\"/>\n",
              "  </svg>\n",
              "      </button>\n",
              "      \n",
              "  <style>\n",
              "    .colab-df-container {\n",
              "      display:flex;\n",
              "      flex-wrap:wrap;\n",
              "      gap: 12px;\n",
              "    }\n",
              "\n",
              "    .colab-df-convert {\n",
              "      background-color: #E8F0FE;\n",
              "      border: none;\n",
              "      border-radius: 50%;\n",
              "      cursor: pointer;\n",
              "      display: none;\n",
              "      fill: #1967D2;\n",
              "      height: 32px;\n",
              "      padding: 0 0 0 0;\n",
              "      width: 32px;\n",
              "    }\n",
              "\n",
              "    .colab-df-convert:hover {\n",
              "      background-color: #E2EBFA;\n",
              "      box-shadow: 0px 1px 2px rgba(60, 64, 67, 0.3), 0px 1px 3px 1px rgba(60, 64, 67, 0.15);\n",
              "      fill: #174EA6;\n",
              "    }\n",
              "\n",
              "    [theme=dark] .colab-df-convert {\n",
              "      background-color: #3B4455;\n",
              "      fill: #D2E3FC;\n",
              "    }\n",
              "\n",
              "    [theme=dark] .colab-df-convert:hover {\n",
              "      background-color: #434B5C;\n",
              "      box-shadow: 0px 1px 3px 1px rgba(0, 0, 0, 0.15);\n",
              "      filter: drop-shadow(0px 1px 2px rgba(0, 0, 0, 0.3));\n",
              "      fill: #FFFFFF;\n",
              "    }\n",
              "  </style>\n",
              "\n",
              "      <script>\n",
              "        const buttonEl =\n",
              "          document.querySelector('#df-c8d5eb43-f484-4f90-8777-c5a67f916a33 button.colab-df-convert');\n",
              "        buttonEl.style.display =\n",
              "          google.colab.kernel.accessAllowed ? 'block' : 'none';\n",
              "\n",
              "        async function convertToInteractive(key) {\n",
              "          const element = document.querySelector('#df-c8d5eb43-f484-4f90-8777-c5a67f916a33');\n",
              "          const dataTable =\n",
              "            await google.colab.kernel.invokeFunction('convertToInteractive',\n",
              "                                                     [key], {});\n",
              "          if (!dataTable) return;\n",
              "\n",
              "          const docLinkHtml = 'Like what you see? Visit the ' +\n",
              "            '<a target=\"_blank\" href=https://colab.research.google.com/notebooks/data_table.ipynb>data table notebook</a>'\n",
              "            + ' to learn more about interactive tables.';\n",
              "          element.innerHTML = '';\n",
              "          dataTable['output_type'] = 'display_data';\n",
              "          await google.colab.output.renderOutput(dataTable, element);\n",
              "          const docLink = document.createElement('div');\n",
              "          docLink.innerHTML = docLinkHtml;\n",
              "          element.appendChild(docLink);\n",
              "        }\n",
              "      </script>\n",
              "    </div>\n",
              "  </div>\n",
              "  "
            ]
          },
          "metadata": {},
          "execution_count": 309
        }
      ]
    },
    {
      "cell_type": "code",
      "source": [
        "policy = policy.rename(columns={0:\"L\",1:\"C2\"})"
      ],
      "metadata": {
        "id": "bAPtsChxT-9i"
      },
      "execution_count": 315,
      "outputs": []
    },
    {
      "cell_type": "code",
      "source": [
        "policy[[\"C1\",\"Q1\"]] = policy.L.str.split(\"c\", expand=True)"
      ],
      "metadata": {
        "id": "K0rRaAYHTul9"
      },
      "execution_count": 317,
      "outputs": []
    },
    {
      "cell_type": "code",
      "source": [
        "policy = policy.drop(columns=[\"L\"])\n",
        "policy"
      ],
      "metadata": {
        "colab": {
          "base_uri": "https://localhost:8080/",
          "height": 455
        },
        "id": "HDSgHJGZUZBH",
        "outputId": "1beed687-b52a-4746-a575-7222a750378b"
      },
      "execution_count": 319,
      "outputs": [
        {
          "output_type": "execute_result",
          "data": {
            "text/plain": [
              "                                                   C2   C1   Q1\n",
              "filename                                                       \n",
              "/content/FastCharge_000072_CH34_structure.json     4c  5_2  _58\n",
              "/content/FastCharge_000066_CH25_structure.json     3c    6  -40\n",
              "/content/FastCharge_000065_CH33_structure.json   3_6c    6  -40\n",
              "/content/FastCharge_000053_CH42_structure.json     3c  5_6  _65\n",
              "/content/FastCharge_000012_CH21_structure.json   4_3c  5_6  _36\n",
              "...                                               ...  ...  ...\n",
              "/content/FastCharge_000052_CH41_structure.json  4_75c  5_6   _5\n",
              "/content/FastCharge_000043_CH16_structure.json     5c  3_6   _9\n",
              "/content/FastCharge_000002_CH34_structure.json     4c    5  _67\n",
              "/content/FastCharge_000016_CH17_structure.json     5c  4_4  _24\n",
              "/content/FastCharge_000008_CH47_structure.json   3_6c    8  -35\n",
              "\n",
              "[140 rows x 3 columns]"
            ],
            "text/html": [
              "\n",
              "  <div id=\"df-a3686e58-9726-4eb1-854b-bcb96efea216\">\n",
              "    <div class=\"colab-df-container\">\n",
              "      <div>\n",
              "<style scoped>\n",
              "    .dataframe tbody tr th:only-of-type {\n",
              "        vertical-align: middle;\n",
              "    }\n",
              "\n",
              "    .dataframe tbody tr th {\n",
              "        vertical-align: top;\n",
              "    }\n",
              "\n",
              "    .dataframe thead th {\n",
              "        text-align: right;\n",
              "    }\n",
              "</style>\n",
              "<table border=\"1\" class=\"dataframe\">\n",
              "  <thead>\n",
              "    <tr style=\"text-align: right;\">\n",
              "      <th></th>\n",
              "      <th>C2</th>\n",
              "      <th>C1</th>\n",
              "      <th>Q1</th>\n",
              "    </tr>\n",
              "    <tr>\n",
              "      <th>filename</th>\n",
              "      <th></th>\n",
              "      <th></th>\n",
              "      <th></th>\n",
              "    </tr>\n",
              "  </thead>\n",
              "  <tbody>\n",
              "    <tr>\n",
              "      <th>/content/FastCharge_000072_CH34_structure.json</th>\n",
              "      <td>4c</td>\n",
              "      <td>5_2</td>\n",
              "      <td>_58</td>\n",
              "    </tr>\n",
              "    <tr>\n",
              "      <th>/content/FastCharge_000066_CH25_structure.json</th>\n",
              "      <td>3c</td>\n",
              "      <td>6</td>\n",
              "      <td>-40</td>\n",
              "    </tr>\n",
              "    <tr>\n",
              "      <th>/content/FastCharge_000065_CH33_structure.json</th>\n",
              "      <td>3_6c</td>\n",
              "      <td>6</td>\n",
              "      <td>-40</td>\n",
              "    </tr>\n",
              "    <tr>\n",
              "      <th>/content/FastCharge_000053_CH42_structure.json</th>\n",
              "      <td>3c</td>\n",
              "      <td>5_6</td>\n",
              "      <td>_65</td>\n",
              "    </tr>\n",
              "    <tr>\n",
              "      <th>/content/FastCharge_000012_CH21_structure.json</th>\n",
              "      <td>4_3c</td>\n",
              "      <td>5_6</td>\n",
              "      <td>_36</td>\n",
              "    </tr>\n",
              "    <tr>\n",
              "      <th>...</th>\n",
              "      <td>...</td>\n",
              "      <td>...</td>\n",
              "      <td>...</td>\n",
              "    </tr>\n",
              "    <tr>\n",
              "      <th>/content/FastCharge_000052_CH41_structure.json</th>\n",
              "      <td>4_75c</td>\n",
              "      <td>5_6</td>\n",
              "      <td>_5</td>\n",
              "    </tr>\n",
              "    <tr>\n",
              "      <th>/content/FastCharge_000043_CH16_structure.json</th>\n",
              "      <td>5c</td>\n",
              "      <td>3_6</td>\n",
              "      <td>_9</td>\n",
              "    </tr>\n",
              "    <tr>\n",
              "      <th>/content/FastCharge_000002_CH34_structure.json</th>\n",
              "      <td>4c</td>\n",
              "      <td>5</td>\n",
              "      <td>_67</td>\n",
              "    </tr>\n",
              "    <tr>\n",
              "      <th>/content/FastCharge_000016_CH17_structure.json</th>\n",
              "      <td>5c</td>\n",
              "      <td>4_4</td>\n",
              "      <td>_24</td>\n",
              "    </tr>\n",
              "    <tr>\n",
              "      <th>/content/FastCharge_000008_CH47_structure.json</th>\n",
              "      <td>3_6c</td>\n",
              "      <td>8</td>\n",
              "      <td>-35</td>\n",
              "    </tr>\n",
              "  </tbody>\n",
              "</table>\n",
              "<p>140 rows × 3 columns</p>\n",
              "</div>\n",
              "      <button class=\"colab-df-convert\" onclick=\"convertToInteractive('df-a3686e58-9726-4eb1-854b-bcb96efea216')\"\n",
              "              title=\"Convert this dataframe to an interactive table.\"\n",
              "              style=\"display:none;\">\n",
              "        \n",
              "  <svg xmlns=\"http://www.w3.org/2000/svg\" height=\"24px\"viewBox=\"0 0 24 24\"\n",
              "       width=\"24px\">\n",
              "    <path d=\"M0 0h24v24H0V0z\" fill=\"none\"/>\n",
              "    <path d=\"M18.56 5.44l.94 2.06.94-2.06 2.06-.94-2.06-.94-.94-2.06-.94 2.06-2.06.94zm-11 1L8.5 8.5l.94-2.06 2.06-.94-2.06-.94L8.5 2.5l-.94 2.06-2.06.94zm10 10l.94 2.06.94-2.06 2.06-.94-2.06-.94-.94-2.06-.94 2.06-2.06.94z\"/><path d=\"M17.41 7.96l-1.37-1.37c-.4-.4-.92-.59-1.43-.59-.52 0-1.04.2-1.43.59L10.3 9.45l-7.72 7.72c-.78.78-.78 2.05 0 2.83L4 21.41c.39.39.9.59 1.41.59.51 0 1.02-.2 1.41-.59l7.78-7.78 2.81-2.81c.8-.78.8-2.07 0-2.86zM5.41 20L4 18.59l7.72-7.72 1.47 1.35L5.41 20z\"/>\n",
              "  </svg>\n",
              "      </button>\n",
              "      \n",
              "  <style>\n",
              "    .colab-df-container {\n",
              "      display:flex;\n",
              "      flex-wrap:wrap;\n",
              "      gap: 12px;\n",
              "    }\n",
              "\n",
              "    .colab-df-convert {\n",
              "      background-color: #E8F0FE;\n",
              "      border: none;\n",
              "      border-radius: 50%;\n",
              "      cursor: pointer;\n",
              "      display: none;\n",
              "      fill: #1967D2;\n",
              "      height: 32px;\n",
              "      padding: 0 0 0 0;\n",
              "      width: 32px;\n",
              "    }\n",
              "\n",
              "    .colab-df-convert:hover {\n",
              "      background-color: #E2EBFA;\n",
              "      box-shadow: 0px 1px 2px rgba(60, 64, 67, 0.3), 0px 1px 3px 1px rgba(60, 64, 67, 0.15);\n",
              "      fill: #174EA6;\n",
              "    }\n",
              "\n",
              "    [theme=dark] .colab-df-convert {\n",
              "      background-color: #3B4455;\n",
              "      fill: #D2E3FC;\n",
              "    }\n",
              "\n",
              "    [theme=dark] .colab-df-convert:hover {\n",
              "      background-color: #434B5C;\n",
              "      box-shadow: 0px 1px 3px 1px rgba(0, 0, 0, 0.15);\n",
              "      filter: drop-shadow(0px 1px 2px rgba(0, 0, 0, 0.3));\n",
              "      fill: #FFFFFF;\n",
              "    }\n",
              "  </style>\n",
              "\n",
              "      <script>\n",
              "        const buttonEl =\n",
              "          document.querySelector('#df-a3686e58-9726-4eb1-854b-bcb96efea216 button.colab-df-convert');\n",
              "        buttonEl.style.display =\n",
              "          google.colab.kernel.accessAllowed ? 'block' : 'none';\n",
              "\n",
              "        async function convertToInteractive(key) {\n",
              "          const element = document.querySelector('#df-a3686e58-9726-4eb1-854b-bcb96efea216');\n",
              "          const dataTable =\n",
              "            await google.colab.kernel.invokeFunction('convertToInteractive',\n",
              "                                                     [key], {});\n",
              "          if (!dataTable) return;\n",
              "\n",
              "          const docLinkHtml = 'Like what you see? Visit the ' +\n",
              "            '<a target=\"_blank\" href=https://colab.research.google.com/notebooks/data_table.ipynb>data table notebook</a>'\n",
              "            + ' to learn more about interactive tables.';\n",
              "          element.innerHTML = '';\n",
              "          dataTable['output_type'] = 'display_data';\n",
              "          await google.colab.output.renderOutput(dataTable, element);\n",
              "          const docLink = document.createElement('div');\n",
              "          docLink.innerHTML = docLinkHtml;\n",
              "          element.appendChild(docLink);\n",
              "        }\n",
              "      </script>\n",
              "    </div>\n",
              "  </div>\n",
              "  "
            ]
          },
          "metadata": {},
          "execution_count": 319
        }
      ]
    },
    {
      "cell_type": "code",
      "source": [
        "policy.C2 = pd.to_numeric(policy.C2.str.rstrip(\"c\").str.replace(\"_\",\".\"))\n",
        "policy.C1 = pd.to_numeric(policy.C1.str.replace(\"_\",\".\"))\n",
        "policy.Q1 = pd.to_numeric(policy.Q1.str.lstrip(\"_-\"))\n",
        "policy = policy[[\"C1\", \"Q1\", \"C2\"]]\n",
        "policy"
      ],
      "metadata": {
        "colab": {
          "base_uri": "https://localhost:8080/",
          "height": 455
        },
        "id": "jDiw2iSCUi2K",
        "outputId": "73ffce09-2994-4d04-eedf-ee44e4cc5a20"
      },
      "execution_count": 323,
      "outputs": [
        {
          "output_type": "execute_result",
          "data": {
            "text/plain": [
              "                                                 C1  Q1    C2\n",
              "filename                                                     \n",
              "/content/FastCharge_000072_CH34_structure.json  5.2  58  4.00\n",
              "/content/FastCharge_000066_CH25_structure.json  6.0  40  3.00\n",
              "/content/FastCharge_000065_CH33_structure.json  6.0  40  3.60\n",
              "/content/FastCharge_000053_CH42_structure.json  5.6  65  3.00\n",
              "/content/FastCharge_000012_CH21_structure.json  5.6  36  4.30\n",
              "...                                             ...  ..   ...\n",
              "/content/FastCharge_000052_CH41_structure.json  5.6   5  4.75\n",
              "/content/FastCharge_000043_CH16_structure.json  3.6   9  5.00\n",
              "/content/FastCharge_000002_CH34_structure.json  5.0  67  4.00\n",
              "/content/FastCharge_000016_CH17_structure.json  4.4  24  5.00\n",
              "/content/FastCharge_000008_CH47_structure.json  8.0  35  3.60\n",
              "\n",
              "[140 rows x 3 columns]"
            ],
            "text/html": [
              "\n",
              "  <div id=\"df-51973f59-1cca-4041-be8d-fefdb10234a6\">\n",
              "    <div class=\"colab-df-container\">\n",
              "      <div>\n",
              "<style scoped>\n",
              "    .dataframe tbody tr th:only-of-type {\n",
              "        vertical-align: middle;\n",
              "    }\n",
              "\n",
              "    .dataframe tbody tr th {\n",
              "        vertical-align: top;\n",
              "    }\n",
              "\n",
              "    .dataframe thead th {\n",
              "        text-align: right;\n",
              "    }\n",
              "</style>\n",
              "<table border=\"1\" class=\"dataframe\">\n",
              "  <thead>\n",
              "    <tr style=\"text-align: right;\">\n",
              "      <th></th>\n",
              "      <th>C1</th>\n",
              "      <th>Q1</th>\n",
              "      <th>C2</th>\n",
              "    </tr>\n",
              "    <tr>\n",
              "      <th>filename</th>\n",
              "      <th></th>\n",
              "      <th></th>\n",
              "      <th></th>\n",
              "    </tr>\n",
              "  </thead>\n",
              "  <tbody>\n",
              "    <tr>\n",
              "      <th>/content/FastCharge_000072_CH34_structure.json</th>\n",
              "      <td>5.2</td>\n",
              "      <td>58</td>\n",
              "      <td>4.00</td>\n",
              "    </tr>\n",
              "    <tr>\n",
              "      <th>/content/FastCharge_000066_CH25_structure.json</th>\n",
              "      <td>6.0</td>\n",
              "      <td>40</td>\n",
              "      <td>3.00</td>\n",
              "    </tr>\n",
              "    <tr>\n",
              "      <th>/content/FastCharge_000065_CH33_structure.json</th>\n",
              "      <td>6.0</td>\n",
              "      <td>40</td>\n",
              "      <td>3.60</td>\n",
              "    </tr>\n",
              "    <tr>\n",
              "      <th>/content/FastCharge_000053_CH42_structure.json</th>\n",
              "      <td>5.6</td>\n",
              "      <td>65</td>\n",
              "      <td>3.00</td>\n",
              "    </tr>\n",
              "    <tr>\n",
              "      <th>/content/FastCharge_000012_CH21_structure.json</th>\n",
              "      <td>5.6</td>\n",
              "      <td>36</td>\n",
              "      <td>4.30</td>\n",
              "    </tr>\n",
              "    <tr>\n",
              "      <th>...</th>\n",
              "      <td>...</td>\n",
              "      <td>...</td>\n",
              "      <td>...</td>\n",
              "    </tr>\n",
              "    <tr>\n",
              "      <th>/content/FastCharge_000052_CH41_structure.json</th>\n",
              "      <td>5.6</td>\n",
              "      <td>5</td>\n",
              "      <td>4.75</td>\n",
              "    </tr>\n",
              "    <tr>\n",
              "      <th>/content/FastCharge_000043_CH16_structure.json</th>\n",
              "      <td>3.6</td>\n",
              "      <td>9</td>\n",
              "      <td>5.00</td>\n",
              "    </tr>\n",
              "    <tr>\n",
              "      <th>/content/FastCharge_000002_CH34_structure.json</th>\n",
              "      <td>5.0</td>\n",
              "      <td>67</td>\n",
              "      <td>4.00</td>\n",
              "    </tr>\n",
              "    <tr>\n",
              "      <th>/content/FastCharge_000016_CH17_structure.json</th>\n",
              "      <td>4.4</td>\n",
              "      <td>24</td>\n",
              "      <td>5.00</td>\n",
              "    </tr>\n",
              "    <tr>\n",
              "      <th>/content/FastCharge_000008_CH47_structure.json</th>\n",
              "      <td>8.0</td>\n",
              "      <td>35</td>\n",
              "      <td>3.60</td>\n",
              "    </tr>\n",
              "  </tbody>\n",
              "</table>\n",
              "<p>140 rows × 3 columns</p>\n",
              "</div>\n",
              "      <button class=\"colab-df-convert\" onclick=\"convertToInteractive('df-51973f59-1cca-4041-be8d-fefdb10234a6')\"\n",
              "              title=\"Convert this dataframe to an interactive table.\"\n",
              "              style=\"display:none;\">\n",
              "        \n",
              "  <svg xmlns=\"http://www.w3.org/2000/svg\" height=\"24px\"viewBox=\"0 0 24 24\"\n",
              "       width=\"24px\">\n",
              "    <path d=\"M0 0h24v24H0V0z\" fill=\"none\"/>\n",
              "    <path d=\"M18.56 5.44l.94 2.06.94-2.06 2.06-.94-2.06-.94-.94-2.06-.94 2.06-2.06.94zm-11 1L8.5 8.5l.94-2.06 2.06-.94-2.06-.94L8.5 2.5l-.94 2.06-2.06.94zm10 10l.94 2.06.94-2.06 2.06-.94-2.06-.94-.94-2.06-.94 2.06-2.06.94z\"/><path d=\"M17.41 7.96l-1.37-1.37c-.4-.4-.92-.59-1.43-.59-.52 0-1.04.2-1.43.59L10.3 9.45l-7.72 7.72c-.78.78-.78 2.05 0 2.83L4 21.41c.39.39.9.59 1.41.59.51 0 1.02-.2 1.41-.59l7.78-7.78 2.81-2.81c.8-.78.8-2.07 0-2.86zM5.41 20L4 18.59l7.72-7.72 1.47 1.35L5.41 20z\"/>\n",
              "  </svg>\n",
              "      </button>\n",
              "      \n",
              "  <style>\n",
              "    .colab-df-container {\n",
              "      display:flex;\n",
              "      flex-wrap:wrap;\n",
              "      gap: 12px;\n",
              "    }\n",
              "\n",
              "    .colab-df-convert {\n",
              "      background-color: #E8F0FE;\n",
              "      border: none;\n",
              "      border-radius: 50%;\n",
              "      cursor: pointer;\n",
              "      display: none;\n",
              "      fill: #1967D2;\n",
              "      height: 32px;\n",
              "      padding: 0 0 0 0;\n",
              "      width: 32px;\n",
              "    }\n",
              "\n",
              "    .colab-df-convert:hover {\n",
              "      background-color: #E2EBFA;\n",
              "      box-shadow: 0px 1px 2px rgba(60, 64, 67, 0.3), 0px 1px 3px 1px rgba(60, 64, 67, 0.15);\n",
              "      fill: #174EA6;\n",
              "    }\n",
              "\n",
              "    [theme=dark] .colab-df-convert {\n",
              "      background-color: #3B4455;\n",
              "      fill: #D2E3FC;\n",
              "    }\n",
              "\n",
              "    [theme=dark] .colab-df-convert:hover {\n",
              "      background-color: #434B5C;\n",
              "      box-shadow: 0px 1px 3px 1px rgba(0, 0, 0, 0.15);\n",
              "      filter: drop-shadow(0px 1px 2px rgba(0, 0, 0, 0.3));\n",
              "      fill: #FFFFFF;\n",
              "    }\n",
              "  </style>\n",
              "\n",
              "      <script>\n",
              "        const buttonEl =\n",
              "          document.querySelector('#df-51973f59-1cca-4041-be8d-fefdb10234a6 button.colab-df-convert');\n",
              "        buttonEl.style.display =\n",
              "          google.colab.kernel.accessAllowed ? 'block' : 'none';\n",
              "\n",
              "        async function convertToInteractive(key) {\n",
              "          const element = document.querySelector('#df-51973f59-1cca-4041-be8d-fefdb10234a6');\n",
              "          const dataTable =\n",
              "            await google.colab.kernel.invokeFunction('convertToInteractive',\n",
              "                                                     [key], {});\n",
              "          if (!dataTable) return;\n",
              "\n",
              "          const docLinkHtml = 'Like what you see? Visit the ' +\n",
              "            '<a target=\"_blank\" href=https://colab.research.google.com/notebooks/data_table.ipynb>data table notebook</a>'\n",
              "            + ' to learn more about interactive tables.';\n",
              "          element.innerHTML = '';\n",
              "          dataTable['output_type'] = 'display_data';\n",
              "          await google.colab.output.renderOutput(dataTable, element);\n",
              "          const docLink = document.createElement('div');\n",
              "          docLink.innerHTML = docLinkHtml;\n",
              "          element.appendChild(docLink);\n",
              "        }\n",
              "      </script>\n",
              "    </div>\n",
              "  </div>\n",
              "  "
            ]
          },
          "metadata": {},
          "execution_count": 323
        }
      ]
    },
    {
      "cell_type": "code",
      "source": [
        "final_meta = meta.drop(columns=['@module', '@class','@version', 'protocol']).merge(policy, left_index=True, right_index=True).sort_values(by=[\"protocol_date\"])\n",
        "final_meta.to_csv(\"./A_meta_data.csv\")\n",
        "final_meta"
      ],
      "metadata": {
        "colab": {
          "base_uri": "https://localhost:8080/",
          "height": 455
        },
        "id": "Yvdd_4_TVug_",
        "outputId": "c5996423-c084-46f7-c4eb-faed1ac5abb0"
      },
      "execution_count": 328,
      "outputs": [
        {
          "output_type": "execute_result",
          "data": {
            "text/plain": [
              "                                                       barcode  channel_id  \\\n",
              "filename                                                                     \n",
              "/content/FastCharge_000008_CH47_structure.json  EL150800460485          46   \n",
              "/content/FastCharge_000029_CH9_structure.json   EL150800465027           8   \n",
              "/content/FastCharge_000019_CH30_structure.json  EL150800460436          29   \n",
              "/content/FastCharge_000048_CH44_structure.json  EL150800460647          43   \n",
              "/content/FastCharge_000026_CH5_structure.json   EL150800464977           4   \n",
              "...                                                        ...         ...   \n",
              "/content/FastCharge_000012_CH45_structure.json  el150800737365          44   \n",
              "/content/FastCharge_000015_CH20_structure.json  el150800737276          19   \n",
              "/content/FastCharge_000015_CH36_structure.json  el150800737287          35   \n",
              "/content/FastCharge_000002_CH2_structure.json   el150800737315           1   \n",
              "/content/FastCharge_000012_CH13_structure.json  el150800737280          12   \n",
              "\n",
              "                                                    protocol_date  \\\n",
              "filename                                                            \n",
              "/content/FastCharge_000008_CH47_structure.json   2017-05-12_TESTS   \n",
              "/content/FastCharge_000029_CH9_structure.json    2017-05-12_TESTS   \n",
              "/content/FastCharge_000019_CH30_structure.json   2017-05-12_TESTS   \n",
              "/content/FastCharge_000048_CH44_structure.json   2017-05-12_TESTS   \n",
              "/content/FastCharge_000026_CH5_structure.json    2017-05-12_TESTS   \n",
              "...                                                           ...   \n",
              "/content/FastCharge_000012_CH45_structure.json  2018-04-12_batch8   \n",
              "/content/FastCharge_000015_CH20_structure.json  2018-04-12_batch8   \n",
              "/content/FastCharge_000015_CH36_structure.json  2018-04-12_batch8   \n",
              "/content/FastCharge_000002_CH2_structure.json   2018-04-12_batch8   \n",
              "/content/FastCharge_000012_CH13_structure.json  2018-04-12_batch8   \n",
              "\n",
              "                                                                          protocol_policy  \\\n",
              "filename                                                                                    \n",
              "/content/FastCharge_000008_CH47_structure.json                 20170512-8C-35PER_3_6C.SDU   \n",
              "/content/FastCharge_000029_CH9_structure.json                20170512-4_8C-80PER_4_8C.SDU   \n",
              "/content/FastCharge_000019_CH30_structure.json                   20170512-6C-60PER_3C.SDU   \n",
              "/content/FastCharge_000048_CH44_structure.json                 20170512-8C-15PER_3_6C.SDU   \n",
              "/content/FastCharge_000026_CH5_structure.json                    20170512-4C-80PER_4C.SDU   \n",
              "...                                                                                   ...   \n",
              "/content/FastCharge_000012_CH45_structure.json  20180412-5_6C_36per_4_3C_newstructure.sdu   \n",
              "/content/FastCharge_000015_CH20_structure.json  20180412-5_6C_19per_4_6C_newstructure.sdu   \n",
              "/content/FastCharge_000015_CH36_structure.json  20180412-5_6C_19per_4_6C_newstructure.sdu   \n",
              "/content/FastCharge_000002_CH2_structure.json       20180412-5C_67per_4C_newstructure.sdu   \n",
              "/content/FastCharge_000012_CH13_structure.json  20180412-5_6C_36per_4_3C_newstructure.sdu   \n",
              "\n",
              "                                                 C1  Q1   C2  \n",
              "filename                                                      \n",
              "/content/FastCharge_000008_CH47_structure.json  8.0  35  3.6  \n",
              "/content/FastCharge_000029_CH9_structure.json   4.8  80  4.8  \n",
              "/content/FastCharge_000019_CH30_structure.json  6.0  60  3.0  \n",
              "/content/FastCharge_000048_CH44_structure.json  8.0  15  3.6  \n",
              "/content/FastCharge_000026_CH5_structure.json   4.0  80  4.0  \n",
              "...                                             ...  ..  ...  \n",
              "/content/FastCharge_000012_CH45_structure.json  5.6  36  4.3  \n",
              "/content/FastCharge_000015_CH20_structure.json  5.6  19  4.6  \n",
              "/content/FastCharge_000015_CH36_structure.json  5.6  19  4.6  \n",
              "/content/FastCharge_000002_CH2_structure.json   5.0  67  4.0  \n",
              "/content/FastCharge_000012_CH13_structure.json  5.6  36  4.3  \n",
              "\n",
              "[140 rows x 7 columns]"
            ],
            "text/html": [
              "\n",
              "  <div id=\"df-e10a6976-fe7b-42eb-a7d3-7d0153f280a3\">\n",
              "    <div class=\"colab-df-container\">\n",
              "      <div>\n",
              "<style scoped>\n",
              "    .dataframe tbody tr th:only-of-type {\n",
              "        vertical-align: middle;\n",
              "    }\n",
              "\n",
              "    .dataframe tbody tr th {\n",
              "        vertical-align: top;\n",
              "    }\n",
              "\n",
              "    .dataframe thead th {\n",
              "        text-align: right;\n",
              "    }\n",
              "</style>\n",
              "<table border=\"1\" class=\"dataframe\">\n",
              "  <thead>\n",
              "    <tr style=\"text-align: right;\">\n",
              "      <th></th>\n",
              "      <th>barcode</th>\n",
              "      <th>channel_id</th>\n",
              "      <th>protocol_date</th>\n",
              "      <th>protocol_policy</th>\n",
              "      <th>C1</th>\n",
              "      <th>Q1</th>\n",
              "      <th>C2</th>\n",
              "    </tr>\n",
              "    <tr>\n",
              "      <th>filename</th>\n",
              "      <th></th>\n",
              "      <th></th>\n",
              "      <th></th>\n",
              "      <th></th>\n",
              "      <th></th>\n",
              "      <th></th>\n",
              "      <th></th>\n",
              "    </tr>\n",
              "  </thead>\n",
              "  <tbody>\n",
              "    <tr>\n",
              "      <th>/content/FastCharge_000008_CH47_structure.json</th>\n",
              "      <td>EL150800460485</td>\n",
              "      <td>46</td>\n",
              "      <td>2017-05-12_TESTS</td>\n",
              "      <td>20170512-8C-35PER_3_6C.SDU</td>\n",
              "      <td>8.0</td>\n",
              "      <td>35</td>\n",
              "      <td>3.6</td>\n",
              "    </tr>\n",
              "    <tr>\n",
              "      <th>/content/FastCharge_000029_CH9_structure.json</th>\n",
              "      <td>EL150800465027</td>\n",
              "      <td>8</td>\n",
              "      <td>2017-05-12_TESTS</td>\n",
              "      <td>20170512-4_8C-80PER_4_8C.SDU</td>\n",
              "      <td>4.8</td>\n",
              "      <td>80</td>\n",
              "      <td>4.8</td>\n",
              "    </tr>\n",
              "    <tr>\n",
              "      <th>/content/FastCharge_000019_CH30_structure.json</th>\n",
              "      <td>EL150800460436</td>\n",
              "      <td>29</td>\n",
              "      <td>2017-05-12_TESTS</td>\n",
              "      <td>20170512-6C-60PER_3C.SDU</td>\n",
              "      <td>6.0</td>\n",
              "      <td>60</td>\n",
              "      <td>3.0</td>\n",
              "    </tr>\n",
              "    <tr>\n",
              "      <th>/content/FastCharge_000048_CH44_structure.json</th>\n",
              "      <td>EL150800460647</td>\n",
              "      <td>43</td>\n",
              "      <td>2017-05-12_TESTS</td>\n",
              "      <td>20170512-8C-15PER_3_6C.SDU</td>\n",
              "      <td>8.0</td>\n",
              "      <td>15</td>\n",
              "      <td>3.6</td>\n",
              "    </tr>\n",
              "    <tr>\n",
              "      <th>/content/FastCharge_000026_CH5_structure.json</th>\n",
              "      <td>EL150800464977</td>\n",
              "      <td>4</td>\n",
              "      <td>2017-05-12_TESTS</td>\n",
              "      <td>20170512-4C-80PER_4C.SDU</td>\n",
              "      <td>4.0</td>\n",
              "      <td>80</td>\n",
              "      <td>4.0</td>\n",
              "    </tr>\n",
              "    <tr>\n",
              "      <th>...</th>\n",
              "      <td>...</td>\n",
              "      <td>...</td>\n",
              "      <td>...</td>\n",
              "      <td>...</td>\n",
              "      <td>...</td>\n",
              "      <td>...</td>\n",
              "      <td>...</td>\n",
              "    </tr>\n",
              "    <tr>\n",
              "      <th>/content/FastCharge_000012_CH45_structure.json</th>\n",
              "      <td>el150800737365</td>\n",
              "      <td>44</td>\n",
              "      <td>2018-04-12_batch8</td>\n",
              "      <td>20180412-5_6C_36per_4_3C_newstructure.sdu</td>\n",
              "      <td>5.6</td>\n",
              "      <td>36</td>\n",
              "      <td>4.3</td>\n",
              "    </tr>\n",
              "    <tr>\n",
              "      <th>/content/FastCharge_000015_CH20_structure.json</th>\n",
              "      <td>el150800737276</td>\n",
              "      <td>19</td>\n",
              "      <td>2018-04-12_batch8</td>\n",
              "      <td>20180412-5_6C_19per_4_6C_newstructure.sdu</td>\n",
              "      <td>5.6</td>\n",
              "      <td>19</td>\n",
              "      <td>4.6</td>\n",
              "    </tr>\n",
              "    <tr>\n",
              "      <th>/content/FastCharge_000015_CH36_structure.json</th>\n",
              "      <td>el150800737287</td>\n",
              "      <td>35</td>\n",
              "      <td>2018-04-12_batch8</td>\n",
              "      <td>20180412-5_6C_19per_4_6C_newstructure.sdu</td>\n",
              "      <td>5.6</td>\n",
              "      <td>19</td>\n",
              "      <td>4.6</td>\n",
              "    </tr>\n",
              "    <tr>\n",
              "      <th>/content/FastCharge_000002_CH2_structure.json</th>\n",
              "      <td>el150800737315</td>\n",
              "      <td>1</td>\n",
              "      <td>2018-04-12_batch8</td>\n",
              "      <td>20180412-5C_67per_4C_newstructure.sdu</td>\n",
              "      <td>5.0</td>\n",
              "      <td>67</td>\n",
              "      <td>4.0</td>\n",
              "    </tr>\n",
              "    <tr>\n",
              "      <th>/content/FastCharge_000012_CH13_structure.json</th>\n",
              "      <td>el150800737280</td>\n",
              "      <td>12</td>\n",
              "      <td>2018-04-12_batch8</td>\n",
              "      <td>20180412-5_6C_36per_4_3C_newstructure.sdu</td>\n",
              "      <td>5.6</td>\n",
              "      <td>36</td>\n",
              "      <td>4.3</td>\n",
              "    </tr>\n",
              "  </tbody>\n",
              "</table>\n",
              "<p>140 rows × 7 columns</p>\n",
              "</div>\n",
              "      <button class=\"colab-df-convert\" onclick=\"convertToInteractive('df-e10a6976-fe7b-42eb-a7d3-7d0153f280a3')\"\n",
              "              title=\"Convert this dataframe to an interactive table.\"\n",
              "              style=\"display:none;\">\n",
              "        \n",
              "  <svg xmlns=\"http://www.w3.org/2000/svg\" height=\"24px\"viewBox=\"0 0 24 24\"\n",
              "       width=\"24px\">\n",
              "    <path d=\"M0 0h24v24H0V0z\" fill=\"none\"/>\n",
              "    <path d=\"M18.56 5.44l.94 2.06.94-2.06 2.06-.94-2.06-.94-.94-2.06-.94 2.06-2.06.94zm-11 1L8.5 8.5l.94-2.06 2.06-.94-2.06-.94L8.5 2.5l-.94 2.06-2.06.94zm10 10l.94 2.06.94-2.06 2.06-.94-2.06-.94-.94-2.06-.94 2.06-2.06.94z\"/><path d=\"M17.41 7.96l-1.37-1.37c-.4-.4-.92-.59-1.43-.59-.52 0-1.04.2-1.43.59L10.3 9.45l-7.72 7.72c-.78.78-.78 2.05 0 2.83L4 21.41c.39.39.9.59 1.41.59.51 0 1.02-.2 1.41-.59l7.78-7.78 2.81-2.81c.8-.78.8-2.07 0-2.86zM5.41 20L4 18.59l7.72-7.72 1.47 1.35L5.41 20z\"/>\n",
              "  </svg>\n",
              "      </button>\n",
              "      \n",
              "  <style>\n",
              "    .colab-df-container {\n",
              "      display:flex;\n",
              "      flex-wrap:wrap;\n",
              "      gap: 12px;\n",
              "    }\n",
              "\n",
              "    .colab-df-convert {\n",
              "      background-color: #E8F0FE;\n",
              "      border: none;\n",
              "      border-radius: 50%;\n",
              "      cursor: pointer;\n",
              "      display: none;\n",
              "      fill: #1967D2;\n",
              "      height: 32px;\n",
              "      padding: 0 0 0 0;\n",
              "      width: 32px;\n",
              "    }\n",
              "\n",
              "    .colab-df-convert:hover {\n",
              "      background-color: #E2EBFA;\n",
              "      box-shadow: 0px 1px 2px rgba(60, 64, 67, 0.3), 0px 1px 3px 1px rgba(60, 64, 67, 0.15);\n",
              "      fill: #174EA6;\n",
              "    }\n",
              "\n",
              "    [theme=dark] .colab-df-convert {\n",
              "      background-color: #3B4455;\n",
              "      fill: #D2E3FC;\n",
              "    }\n",
              "\n",
              "    [theme=dark] .colab-df-convert:hover {\n",
              "      background-color: #434B5C;\n",
              "      box-shadow: 0px 1px 3px 1px rgba(0, 0, 0, 0.15);\n",
              "      filter: drop-shadow(0px 1px 2px rgba(0, 0, 0, 0.3));\n",
              "      fill: #FFFFFF;\n",
              "    }\n",
              "  </style>\n",
              "\n",
              "      <script>\n",
              "        const buttonEl =\n",
              "          document.querySelector('#df-e10a6976-fe7b-42eb-a7d3-7d0153f280a3 button.colab-df-convert');\n",
              "        buttonEl.style.display =\n",
              "          google.colab.kernel.accessAllowed ? 'block' : 'none';\n",
              "\n",
              "        async function convertToInteractive(key) {\n",
              "          const element = document.querySelector('#df-e10a6976-fe7b-42eb-a7d3-7d0153f280a3');\n",
              "          const dataTable =\n",
              "            await google.colab.kernel.invokeFunction('convertToInteractive',\n",
              "                                                     [key], {});\n",
              "          if (!dataTable) return;\n",
              "\n",
              "          const docLinkHtml = 'Like what you see? Visit the ' +\n",
              "            '<a target=\"_blank\" href=https://colab.research.google.com/notebooks/data_table.ipynb>data table notebook</a>'\n",
              "            + ' to learn more about interactive tables.';\n",
              "          element.innerHTML = '';\n",
              "          dataTable['output_type'] = 'display_data';\n",
              "          await google.colab.output.renderOutput(dataTable, element);\n",
              "          const docLink = document.createElement('div');\n",
              "          docLink.innerHTML = docLinkHtml;\n",
              "          element.appendChild(docLink);\n",
              "        }\n",
              "      </script>\n",
              "    </div>\n",
              "  </div>\n",
              "  "
            ]
          },
          "metadata": {},
          "execution_count": 328
        }
      ]
    },
    {
      "cell_type": "code",
      "source": [
        "! pwd"
      ],
      "metadata": {
        "colab": {
          "base_uri": "https://localhost:8080/"
        },
        "id": "k3KLyFVuWlza",
        "outputId": "40b0f35f-2441-4283-e85c-c46a7bc461b7"
      },
      "execution_count": 327,
      "outputs": [
        {
          "output_type": "stream",
          "name": "stdout",
          "text": [
            "/content\n"
          ]
        }
      ]
    },
    {
      "cell_type": "markdown",
      "source": [
        "# Run Data Exploration"
      ],
      "metadata": {
        "id": "VAWKlo0uo1rb"
      }
    },
    {
      "cell_type": "code",
      "source": [
        "data_dict[\"/content/FastCharge_000072_CH34_structure.json\"]"
      ],
      "metadata": {
        "colab": {
          "base_uri": "https://localhost:8080/",
          "height": 693
        },
        "id": "LxuAwM3fkA59",
        "outputId": "21df35aa-752b-4ca7-df36-d9180d2e03ec"
      },
      "execution_count": 125,
      "outputs": [
        {
          "output_type": "execute_result",
          "data": {
            "text/plain": [
              "            discharge_capacity charge_capacity discharge_energy charge_energy  \\\n",
              "cycle_index                                                                     \n",
              "0                     1.968019        1.450042         6.232803      4.784957   \n",
              "1                     1.075889        1.075779         3.279834      3.746918   \n",
              "2                     1.079052          1.0789         3.285678      3.750352   \n",
              "3                     1.079789        1.080898         3.292782      3.757467   \n",
              "4                     1.081907        1.081935         3.299445      3.758799   \n",
              "...                        ...             ...              ...           ...   \n",
              "543                   0.832752        0.835261         2.356498      2.974607   \n",
              "544                   0.830412        0.833154         2.348395       2.96681   \n",
              "545                   0.828325         0.82921         2.340671      2.954182   \n",
              "546                   0.825913        0.828802         2.333102      2.952328   \n",
              "547                   0.823531        0.826195         2.324655      2.943481   \n",
              "\n",
              "            dc_internal_resistance temperature_maximum temperature_average  \\\n",
              "cycle_index                                                                  \n",
              "0                         0.030048           33.801735           30.271198   \n",
              "1                         0.017711           36.337837           32.858318   \n",
              "2                         0.017695             35.5625           32.470284   \n",
              "3                         0.017686           36.342033            32.90757   \n",
              "4                         0.017553           36.423939           33.094589   \n",
              "...                            ...                 ...                 ...   \n",
              "543                       0.022071           38.934872           34.528015   \n",
              "544                        0.02213           38.666843            34.48867   \n",
              "545                       0.022238           39.010265           34.093014   \n",
              "546                       0.022129           39.014011           34.395927   \n",
              "547                       0.022361           38.074364           34.201889   \n",
              "\n",
              "            temperature_minimum              date_time_iso energy_efficiency  \\\n",
              "cycle_index                                                                    \n",
              "0                     24.935591  2017-07-01T03:58:56+00:00          1.302583   \n",
              "1                     30.670738  2017-07-02T01:36:00+00:00          0.875342   \n",
              "2                      30.02273  2017-07-02T02:37:52+00:00          0.876099   \n",
              "3                     30.620964  2017-07-02T03:37:36+00:00           0.87633   \n",
              "4                     30.771761  2017-07-02T04:37:20+00:00          0.877792   \n",
              "...                         ...                        ...               ...   \n",
              "543                   30.902069  2017-07-24T20:26:40+00:00          0.792205   \n",
              "544                   30.418114  2017-07-24T21:26:24+00:00          0.791556   \n",
              "545                   30.246161  2017-07-24T22:24:00+00:00          0.792324   \n",
              "546                   30.390896  2017-07-24T23:23:44+00:00          0.790258   \n",
              "547                   30.372206  2017-07-25T00:23:28+00:00          0.789764   \n",
              "\n",
              "            charge_throughput energy_throughput charge_duration  \\\n",
              "cycle_index                                                       \n",
              "0                    1.450042          4.784957         33024.0   \n",
              "1                    2.525821          8.531876           640.0   \n",
              "2                    3.604721         12.282228           512.0   \n",
              "3                    4.685618         16.039694           512.0   \n",
              "4                    5.767554         19.798494           640.0   \n",
              "...                       ...               ...             ...   \n",
              "543                568.198425       1988.864502             NaN   \n",
              "544                569.031616       1991.831299             NaN   \n",
              "545                569.860779         1994.7854             NaN   \n",
              "546                570.689575       1997.737793             NaN   \n",
              "547                571.515808       2000.681274             NaN   \n",
              "\n",
              "            time_temperature_integrated paused  \n",
              "cycle_index                                     \n",
              "0                          39202.165377      0  \n",
              "1                           2028.519515      0  \n",
              "2                           1938.995089      0  \n",
              "3                            1962.60553      0  \n",
              "4                           1972.331616      0  \n",
              "...                                 ...    ...  \n",
              "543                         2033.734355      0  \n",
              "544                         1954.928239      0  \n",
              "545                         2009.959367      0  \n",
              "546                         2020.634465      0  \n",
              "547                         1861.611222      0  \n",
              "\n",
              "[548 rows x 15 columns]"
            ],
            "text/html": [
              "\n",
              "  <div id=\"df-022ffe44-f1a3-4eb2-88a9-3ea9b79436b1\">\n",
              "    <div class=\"colab-df-container\">\n",
              "      <div>\n",
              "<style scoped>\n",
              "    .dataframe tbody tr th:only-of-type {\n",
              "        vertical-align: middle;\n",
              "    }\n",
              "\n",
              "    .dataframe tbody tr th {\n",
              "        vertical-align: top;\n",
              "    }\n",
              "\n",
              "    .dataframe thead th {\n",
              "        text-align: right;\n",
              "    }\n",
              "</style>\n",
              "<table border=\"1\" class=\"dataframe\">\n",
              "  <thead>\n",
              "    <tr style=\"text-align: right;\">\n",
              "      <th></th>\n",
              "      <th>discharge_capacity</th>\n",
              "      <th>charge_capacity</th>\n",
              "      <th>discharge_energy</th>\n",
              "      <th>charge_energy</th>\n",
              "      <th>dc_internal_resistance</th>\n",
              "      <th>temperature_maximum</th>\n",
              "      <th>temperature_average</th>\n",
              "      <th>temperature_minimum</th>\n",
              "      <th>date_time_iso</th>\n",
              "      <th>energy_efficiency</th>\n",
              "      <th>charge_throughput</th>\n",
              "      <th>energy_throughput</th>\n",
              "      <th>charge_duration</th>\n",
              "      <th>time_temperature_integrated</th>\n",
              "      <th>paused</th>\n",
              "    </tr>\n",
              "    <tr>\n",
              "      <th>cycle_index</th>\n",
              "      <th></th>\n",
              "      <th></th>\n",
              "      <th></th>\n",
              "      <th></th>\n",
              "      <th></th>\n",
              "      <th></th>\n",
              "      <th></th>\n",
              "      <th></th>\n",
              "      <th></th>\n",
              "      <th></th>\n",
              "      <th></th>\n",
              "      <th></th>\n",
              "      <th></th>\n",
              "      <th></th>\n",
              "      <th></th>\n",
              "    </tr>\n",
              "  </thead>\n",
              "  <tbody>\n",
              "    <tr>\n",
              "      <th>0</th>\n",
              "      <td>1.968019</td>\n",
              "      <td>1.450042</td>\n",
              "      <td>6.232803</td>\n",
              "      <td>4.784957</td>\n",
              "      <td>0.030048</td>\n",
              "      <td>33.801735</td>\n",
              "      <td>30.271198</td>\n",
              "      <td>24.935591</td>\n",
              "      <td>2017-07-01T03:58:56+00:00</td>\n",
              "      <td>1.302583</td>\n",
              "      <td>1.450042</td>\n",
              "      <td>4.784957</td>\n",
              "      <td>33024.0</td>\n",
              "      <td>39202.165377</td>\n",
              "      <td>0</td>\n",
              "    </tr>\n",
              "    <tr>\n",
              "      <th>1</th>\n",
              "      <td>1.075889</td>\n",
              "      <td>1.075779</td>\n",
              "      <td>3.279834</td>\n",
              "      <td>3.746918</td>\n",
              "      <td>0.017711</td>\n",
              "      <td>36.337837</td>\n",
              "      <td>32.858318</td>\n",
              "      <td>30.670738</td>\n",
              "      <td>2017-07-02T01:36:00+00:00</td>\n",
              "      <td>0.875342</td>\n",
              "      <td>2.525821</td>\n",
              "      <td>8.531876</td>\n",
              "      <td>640.0</td>\n",
              "      <td>2028.519515</td>\n",
              "      <td>0</td>\n",
              "    </tr>\n",
              "    <tr>\n",
              "      <th>2</th>\n",
              "      <td>1.079052</td>\n",
              "      <td>1.0789</td>\n",
              "      <td>3.285678</td>\n",
              "      <td>3.750352</td>\n",
              "      <td>0.017695</td>\n",
              "      <td>35.5625</td>\n",
              "      <td>32.470284</td>\n",
              "      <td>30.02273</td>\n",
              "      <td>2017-07-02T02:37:52+00:00</td>\n",
              "      <td>0.876099</td>\n",
              "      <td>3.604721</td>\n",
              "      <td>12.282228</td>\n",
              "      <td>512.0</td>\n",
              "      <td>1938.995089</td>\n",
              "      <td>0</td>\n",
              "    </tr>\n",
              "    <tr>\n",
              "      <th>3</th>\n",
              "      <td>1.079789</td>\n",
              "      <td>1.080898</td>\n",
              "      <td>3.292782</td>\n",
              "      <td>3.757467</td>\n",
              "      <td>0.017686</td>\n",
              "      <td>36.342033</td>\n",
              "      <td>32.90757</td>\n",
              "      <td>30.620964</td>\n",
              "      <td>2017-07-02T03:37:36+00:00</td>\n",
              "      <td>0.87633</td>\n",
              "      <td>4.685618</td>\n",
              "      <td>16.039694</td>\n",
              "      <td>512.0</td>\n",
              "      <td>1962.60553</td>\n",
              "      <td>0</td>\n",
              "    </tr>\n",
              "    <tr>\n",
              "      <th>4</th>\n",
              "      <td>1.081907</td>\n",
              "      <td>1.081935</td>\n",
              "      <td>3.299445</td>\n",
              "      <td>3.758799</td>\n",
              "      <td>0.017553</td>\n",
              "      <td>36.423939</td>\n",
              "      <td>33.094589</td>\n",
              "      <td>30.771761</td>\n",
              "      <td>2017-07-02T04:37:20+00:00</td>\n",
              "      <td>0.877792</td>\n",
              "      <td>5.767554</td>\n",
              "      <td>19.798494</td>\n",
              "      <td>640.0</td>\n",
              "      <td>1972.331616</td>\n",
              "      <td>0</td>\n",
              "    </tr>\n",
              "    <tr>\n",
              "      <th>...</th>\n",
              "      <td>...</td>\n",
              "      <td>...</td>\n",
              "      <td>...</td>\n",
              "      <td>...</td>\n",
              "      <td>...</td>\n",
              "      <td>...</td>\n",
              "      <td>...</td>\n",
              "      <td>...</td>\n",
              "      <td>...</td>\n",
              "      <td>...</td>\n",
              "      <td>...</td>\n",
              "      <td>...</td>\n",
              "      <td>...</td>\n",
              "      <td>...</td>\n",
              "      <td>...</td>\n",
              "    </tr>\n",
              "    <tr>\n",
              "      <th>543</th>\n",
              "      <td>0.832752</td>\n",
              "      <td>0.835261</td>\n",
              "      <td>2.356498</td>\n",
              "      <td>2.974607</td>\n",
              "      <td>0.022071</td>\n",
              "      <td>38.934872</td>\n",
              "      <td>34.528015</td>\n",
              "      <td>30.902069</td>\n",
              "      <td>2017-07-24T20:26:40+00:00</td>\n",
              "      <td>0.792205</td>\n",
              "      <td>568.198425</td>\n",
              "      <td>1988.864502</td>\n",
              "      <td>NaN</td>\n",
              "      <td>2033.734355</td>\n",
              "      <td>0</td>\n",
              "    </tr>\n",
              "    <tr>\n",
              "      <th>544</th>\n",
              "      <td>0.830412</td>\n",
              "      <td>0.833154</td>\n",
              "      <td>2.348395</td>\n",
              "      <td>2.96681</td>\n",
              "      <td>0.02213</td>\n",
              "      <td>38.666843</td>\n",
              "      <td>34.48867</td>\n",
              "      <td>30.418114</td>\n",
              "      <td>2017-07-24T21:26:24+00:00</td>\n",
              "      <td>0.791556</td>\n",
              "      <td>569.031616</td>\n",
              "      <td>1991.831299</td>\n",
              "      <td>NaN</td>\n",
              "      <td>1954.928239</td>\n",
              "      <td>0</td>\n",
              "    </tr>\n",
              "    <tr>\n",
              "      <th>545</th>\n",
              "      <td>0.828325</td>\n",
              "      <td>0.82921</td>\n",
              "      <td>2.340671</td>\n",
              "      <td>2.954182</td>\n",
              "      <td>0.022238</td>\n",
              "      <td>39.010265</td>\n",
              "      <td>34.093014</td>\n",
              "      <td>30.246161</td>\n",
              "      <td>2017-07-24T22:24:00+00:00</td>\n",
              "      <td>0.792324</td>\n",
              "      <td>569.860779</td>\n",
              "      <td>1994.7854</td>\n",
              "      <td>NaN</td>\n",
              "      <td>2009.959367</td>\n",
              "      <td>0</td>\n",
              "    </tr>\n",
              "    <tr>\n",
              "      <th>546</th>\n",
              "      <td>0.825913</td>\n",
              "      <td>0.828802</td>\n",
              "      <td>2.333102</td>\n",
              "      <td>2.952328</td>\n",
              "      <td>0.022129</td>\n",
              "      <td>39.014011</td>\n",
              "      <td>34.395927</td>\n",
              "      <td>30.390896</td>\n",
              "      <td>2017-07-24T23:23:44+00:00</td>\n",
              "      <td>0.790258</td>\n",
              "      <td>570.689575</td>\n",
              "      <td>1997.737793</td>\n",
              "      <td>NaN</td>\n",
              "      <td>2020.634465</td>\n",
              "      <td>0</td>\n",
              "    </tr>\n",
              "    <tr>\n",
              "      <th>547</th>\n",
              "      <td>0.823531</td>\n",
              "      <td>0.826195</td>\n",
              "      <td>2.324655</td>\n",
              "      <td>2.943481</td>\n",
              "      <td>0.022361</td>\n",
              "      <td>38.074364</td>\n",
              "      <td>34.201889</td>\n",
              "      <td>30.372206</td>\n",
              "      <td>2017-07-25T00:23:28+00:00</td>\n",
              "      <td>0.789764</td>\n",
              "      <td>571.515808</td>\n",
              "      <td>2000.681274</td>\n",
              "      <td>NaN</td>\n",
              "      <td>1861.611222</td>\n",
              "      <td>0</td>\n",
              "    </tr>\n",
              "  </tbody>\n",
              "</table>\n",
              "<p>548 rows × 15 columns</p>\n",
              "</div>\n",
              "      <button class=\"colab-df-convert\" onclick=\"convertToInteractive('df-022ffe44-f1a3-4eb2-88a9-3ea9b79436b1')\"\n",
              "              title=\"Convert this dataframe to an interactive table.\"\n",
              "              style=\"display:none;\">\n",
              "        \n",
              "  <svg xmlns=\"http://www.w3.org/2000/svg\" height=\"24px\"viewBox=\"0 0 24 24\"\n",
              "       width=\"24px\">\n",
              "    <path d=\"M0 0h24v24H0V0z\" fill=\"none\"/>\n",
              "    <path d=\"M18.56 5.44l.94 2.06.94-2.06 2.06-.94-2.06-.94-.94-2.06-.94 2.06-2.06.94zm-11 1L8.5 8.5l.94-2.06 2.06-.94-2.06-.94L8.5 2.5l-.94 2.06-2.06.94zm10 10l.94 2.06.94-2.06 2.06-.94-2.06-.94-.94-2.06-.94 2.06-2.06.94z\"/><path d=\"M17.41 7.96l-1.37-1.37c-.4-.4-.92-.59-1.43-.59-.52 0-1.04.2-1.43.59L10.3 9.45l-7.72 7.72c-.78.78-.78 2.05 0 2.83L4 21.41c.39.39.9.59 1.41.59.51 0 1.02-.2 1.41-.59l7.78-7.78 2.81-2.81c.8-.78.8-2.07 0-2.86zM5.41 20L4 18.59l7.72-7.72 1.47 1.35L5.41 20z\"/>\n",
              "  </svg>\n",
              "      </button>\n",
              "      \n",
              "  <style>\n",
              "    .colab-df-container {\n",
              "      display:flex;\n",
              "      flex-wrap:wrap;\n",
              "      gap: 12px;\n",
              "    }\n",
              "\n",
              "    .colab-df-convert {\n",
              "      background-color: #E8F0FE;\n",
              "      border: none;\n",
              "      border-radius: 50%;\n",
              "      cursor: pointer;\n",
              "      display: none;\n",
              "      fill: #1967D2;\n",
              "      height: 32px;\n",
              "      padding: 0 0 0 0;\n",
              "      width: 32px;\n",
              "    }\n",
              "\n",
              "    .colab-df-convert:hover {\n",
              "      background-color: #E2EBFA;\n",
              "      box-shadow: 0px 1px 2px rgba(60, 64, 67, 0.3), 0px 1px 3px 1px rgba(60, 64, 67, 0.15);\n",
              "      fill: #174EA6;\n",
              "    }\n",
              "\n",
              "    [theme=dark] .colab-df-convert {\n",
              "      background-color: #3B4455;\n",
              "      fill: #D2E3FC;\n",
              "    }\n",
              "\n",
              "    [theme=dark] .colab-df-convert:hover {\n",
              "      background-color: #434B5C;\n",
              "      box-shadow: 0px 1px 3px 1px rgba(0, 0, 0, 0.15);\n",
              "      filter: drop-shadow(0px 1px 2px rgba(0, 0, 0, 0.3));\n",
              "      fill: #FFFFFF;\n",
              "    }\n",
              "  </style>\n",
              "\n",
              "      <script>\n",
              "        const buttonEl =\n",
              "          document.querySelector('#df-022ffe44-f1a3-4eb2-88a9-3ea9b79436b1 button.colab-df-convert');\n",
              "        buttonEl.style.display =\n",
              "          google.colab.kernel.accessAllowed ? 'block' : 'none';\n",
              "\n",
              "        async function convertToInteractive(key) {\n",
              "          const element = document.querySelector('#df-022ffe44-f1a3-4eb2-88a9-3ea9b79436b1');\n",
              "          const dataTable =\n",
              "            await google.colab.kernel.invokeFunction('convertToInteractive',\n",
              "                                                     [key], {});\n",
              "          if (!dataTable) return;\n",
              "\n",
              "          const docLinkHtml = 'Like what you see? Visit the ' +\n",
              "            '<a target=\"_blank\" href=https://colab.research.google.com/notebooks/data_table.ipynb>data table notebook</a>'\n",
              "            + ' to learn more about interactive tables.';\n",
              "          element.innerHTML = '';\n",
              "          dataTable['output_type'] = 'display_data';\n",
              "          await google.colab.output.renderOutput(dataTable, element);\n",
              "          const docLink = document.createElement('div');\n",
              "          docLink.innerHTML = docLinkHtml;\n",
              "          element.appendChild(docLink);\n",
              "        }\n",
              "      </script>\n",
              "    </div>\n",
              "  </div>\n",
              "  "
            ]
          },
          "metadata": {},
          "execution_count": 125
        }
      ]
    },
    {
      "cell_type": "code",
      "source": [
        "from matplotlib import pyplot as plt"
      ],
      "metadata": {
        "id": "kk71iwOxqeZv"
      },
      "execution_count": 127,
      "outputs": []
    },
    {
      "cell_type": "code",
      "source": [
        "for df in data_dict.values():\n",
        "    plt.plot(df.iloc[:-1].index, df.iloc[:-1]['discharge_capacity'])\n",
        "plt.xlabel('Cycle Number')\n",
        "plt.ylabel('Discharge Capacity (Ah)')"
      ],
      "metadata": {
        "colab": {
          "base_uri": "https://localhost:8080/",
          "height": 296
        },
        "id": "-T0h_B7ckA8A",
        "outputId": "2aef611f-7863-46c0-87a9-17ac5781a5d2"
      },
      "execution_count": 152,
      "outputs": [
        {
          "output_type": "execute_result",
          "data": {
            "text/plain": [
              "Text(0, 0.5, 'Discharge Capacity (Ah)')"
            ]
          },
          "metadata": {},
          "execution_count": 152
        },
        {
          "output_type": "display_data",
          "data": {
            "text/plain": [
              "<Figure size 432x288 with 1 Axes>"
            ],
            "image/png": "[encoded data removed]"
          },
          "metadata": {
            "needs_background": "light"
          }
        }
      ]
    },
    {
      "cell_type": "markdown",
      "source": [
        "## Removing suspect runs as mentioned in the original code base and on the website"
      ],
      "metadata": {
        "id": "NfVs2Aec3wow"
      }
    },
    {
      "cell_type": "code",
      "source": [
        "batch1 = \"2018-04-12_batch8\"\n",
        "batch2 = \"2017-05-12_TESTS\"\n",
        "batch3 = \"2017-06-30_tests\""
      ],
      "metadata": {
        "id": "TZIJ7Dl17CxT"
      },
      "execution_count": 189,
      "outputs": []
    },
    {
      "cell_type": "markdown",
      "source": [
        "### Batch 1 : 2018-04-12\n",
        "\n",
        "**Experimental design**\n",
        "\n",
        "All cells were cycled with two-step charging policies. The charging time fixed at 10 minutes (0-80% SOC). We test multiple cells per policy (3-8x per policy).\n",
        "We cycle to 80% of nominal capacity (0.88 Ah).\n",
        "Four 5-second rests were placed after reaching 80% SOC during charging, after the IR test, before discharging, and after discharging.\n",
        "A final C/10 cycle was performed at 80% of nominal capacity.\n",
        "The cutoff currents for the constant-voltage steps were C/20 for both charge and discharge.\n",
        "The pulse width of the IR test is 33 ms.\n",
        "\n",
        "**Experimental notes**\n",
        "\n",
        "Some cells had OCV errors (caused by the internal resistance test) that lead to temporary pauses in cycling.\n",
        "\n",
        "**Data notes**\n",
        "\n",
        "The tests in channels 33 and 41 were terminated before the cells reached 80% of nominal capacity.\n",
        "The cell in channel 46 has noisy voltage profiles, likely due to an electronic connection error."
      ],
      "metadata": {
        "id": "1dNgXIQm6ult"
      }
    },
    {
      "cell_type": "code",
      "source": [
        "# remove batteries that do not reach 80% capacity\n",
        "  # del batch1['b1c8']\n",
        "  # del batch1['b1c10']\n",
        "  # del batch1['b1c12']\n",
        "  # del batch1['b1c13']\n",
        "  # del batch1['b1c22']\n",
        "\n",
        "# THESE CELL IDs DON'T MATCH WHAT THE PAPER MENTIONS\n",
        "# CELLS ARE INDEXED FROM 0 IN THE CODE AND 1 IN THE PAPER\n",
        "\n",
        "# b1_chan_ids = [33, 41, 46]\n",
        "b1_chan_ids = [32, 40, 45]\n"
      ],
      "metadata": {
        "id": "1R8eSbNZ6_QQ"
      },
      "execution_count": 206,
      "outputs": []
    },
    {
      "cell_type": "code",
      "source": [
        "l = []\n",
        "for run in data_dict:\n",
        "    if (meta.loc[run,\"protocol_date\"] == batch1 and meta.loc[run, \"channel_id\"] in b1_chan_ids):\n",
        "      plt.plot(data_dict[run].iloc[:-1].index, data_dict[run].iloc[:-1]['discharge_capacity'])\n",
        "      l.append(meta.loc[run, \"channel_id\"])\n",
        "plt.title('Batch 1 runs to remove')\n",
        "plt.xlabel('Cycle Number')\n",
        "plt.ylabel('Discharge Capacity (Ah)')\n",
        "plt.legend(l);"
      ],
      "metadata": {
        "colab": {
          "base_uri": "https://localhost:8080/",
          "height": 295
        },
        "id": "AG3KMFFwuE4c",
        "outputId": "f121e729-eeb6-411f-db57-b34fb756a4d6"
      },
      "execution_count": 207,
      "outputs": [
        {
          "output_type": "display_data",
          "data": {
            "text/plain": [
              "<Figure size 432x288 with 1 Axes>"
            ],
            "image/png": "[encoded data removed]"
          },
          "metadata": {
            "needs_background": "light"
          }
        }
      ]
    },
    {
      "cell_type": "code",
      "source": [
        "for run in data_dict:\n",
        "    if (meta.loc[run,\"protocol_date\"] == batch1 and not meta.loc[run, \"channel_id\"] in b1_chan_ids):\n",
        "      plt.plot(data_dict[run].iloc[:-1].index, data_dict[run].iloc[:-1]['discharge_capacity'])\n",
        "plt.title('Batch 1 runs to keep')\n",
        "plt.xlabel('Cycle Number')\n",
        "plt.ylabel('Discharge Capacity (Ah)');"
      ],
      "metadata": {
        "colab": {
          "base_uri": "https://localhost:8080/",
          "height": 295
        },
        "id": "ub1smtjZuE7e",
        "outputId": "73523b5d-6019-433a-c4e0-98f778bbd8de"
      },
      "execution_count": 201,
      "outputs": [
        {
          "output_type": "display_data",
          "data": {
            "text/plain": [
              "<Figure size 432x288 with 1 Axes>"
            ],
            "image/png": "[encoded data removed]"
          },
          "metadata": {
            "needs_background": "light"
          }
        }
      ]
    },
    {
      "cell_type": "code",
      "source": [
        "m = []\n",
        "for run in data_dict:\n",
        "    if (meta.loc[run,\"protocol_date\"] == batch1 and not meta.loc[run, \"channel_id\"] in b1_chan_ids):\n",
        "      m.append(data_dict[run].iloc[:-1]['discharge_capacity'].min())\n",
        "print(m)"
      ],
      "metadata": {
        "colab": {
          "base_uri": "https://localhost:8080/"
        },
        "id": "RJ2KbzFIuE-i",
        "outputId": "1d32d80d-b011-4917-a09c-5f2795a5dc96"
      },
      "execution_count": 203,
      "outputs": [
        {
          "output_type": "stream",
          "name": "stdout",
          "text": [
            "[0.88080788, 0.88079751, 0.88024569, 0.88002509, 0.88001466, 0.88094068, 0.88014877, 0.88023561, 0.88003904, 0.88007373, 0.88037544, nan, 0.88013124, 0.88059181, 0.88047254, 0.88011736, 0.88043362, 0.88065648, 0.88031369, 0.88094097, 0.88046378, 0.88036358, 0.88058406, 0.88064086, 0.8801114, 0.88007307, 0.88088632, 0.88024825, 0.8802734, 0.88062328, 0.88158864, 0.88058048, 0.88000458, 0.8804329, 0.8801983, 0.88060242, 0.88113368, 0.88060749, 0.88167018, 0.88070726, 0.88010961, 0.88043225, 0.88017184, 0.88021326]\n"
          ]
        }
      ]
    },
    {
      "cell_type": "markdown",
      "source": [
        "Could not validate claim about not reaching 80%. All runs appeard to be well above 80% discharge capacity. What is meant by \"nominal capacity\"?"
      ],
      "metadata": {
        "id": "HUEEU3TE4Xpe"
      }
    },
    {
      "cell_type": "markdown",
      "source": [
        "### Batch 2: 2017-05-12\n",
        "\n",
        "**Experimental design**\n",
        "\n",
        "All cells were cycled with one-step or two-step charging policies. The charging time varies from ~8 to 13.3 minutes (0-80% SOC). There are generally two cells tested per policy, with the exception of 3.6C(80%).\n",
        "1 minute and 1 second rests were placed after reaching 80% SOC during charging and after discharging, respectively.\n",
        "We cycle to 80% of nominal capacity (0.88 Ah).\n",
        "An initial C/10 cycle was performed in the beginning of each test.\n",
        "The cutoff currents for the constant-voltage steps were C/50 for both charge and discharge.\n",
        "The pulse width of the IR test is 30 ms.\n",
        "\n",
        "**Experimental notes**\n",
        "\n",
        "The computer automatically restarted twice. As such, there are some time gaps in the data.\n",
        "The temperature control is somewhat inconsistent, leading to variability in the baseline chamber temperature.\n",
        "The tests in channels 4 and 8 did not successfully start and thus do not have data.\n",
        "The thermocouples for channels 15 and 16 were accidentally switched.\n",
        "\n",
        "**Data notes**\n",
        "\n",
        "Cycle 1 data is not available in the struct. The sampling rate for this cycle was initially too high, so we excluded it from the data set to create more manageable file sizes.\n",
        "The cells in Channels 1, 2, 3, 5, and 6 (3.6C(80%) and 4C(80%) policies) were stopped at the end of this batch and resumed in the 2017-06-30 batch. This pause in cycling lead to a rise in capacity upon resuming the tests.\n",
        "The tests in channels 13, 19, 21, 22, and 31 were terminated before the cells reached 80% of nominal capacity."
      ],
      "metadata": {
        "id": "gtLtuVLR4bR1"
      }
    },
    {
      "cell_type": "code",
      "source": [
        "# Batch 2: 2017-05-12\n",
        "b2_t_switch = [15,14]\n",
        "b2_chan_ids = [3,7,12, 18, 20, 21, 30] # first 2 are no start, rest is terminated before the cells reached 80% of nominal capacity\n",
        "b2_resume_b3_chan_ids = [0, 1, 2, 4, 5]\n",
        "\n"
      ],
      "metadata": {
        "id": "S5fxEPido60i"
      },
      "execution_count": 224,
      "outputs": []
    },
    {
      "cell_type": "code",
      "source": [
        "for run in data_dict:\n",
        "    if (meta.loc[run,\"protocol_date\"] == batch2):\n",
        "      plt.plot(data_dict[run].iloc[:-1].index, data_dict[run].iloc[:-1]['discharge_capacity'])\n",
        "plt.title(\"All Batch2 runs\")\n",
        "plt.xlabel('Cycle Number')\n",
        "plt.ylabel('Discharge Capacity (Ah)');"
      ],
      "metadata": {
        "colab": {
          "base_uri": "https://localhost:8080/",
          "height": 295
        },
        "id": "k2CBBYVbAwZP",
        "outputId": "7e6ae65d-8bdf-460a-a671-b2486d1b2116"
      },
      "execution_count": 212,
      "outputs": [
        {
          "output_type": "display_data",
          "data": {
            "text/plain": [
              "<Figure size 432x288 with 1 Axes>"
            ],
            "image/png": "[encoded data removed]"
          },
          "metadata": {
            "needs_background": "light"
          }
        }
      ]
    },
    {
      "cell_type": "code",
      "source": [
        "l = []\n",
        "for run in data_dict:\n",
        "    if (meta.loc[run,\"protocol_date\"] == batch2 and meta.loc[run, \"channel_id\"] in b2_chan_ids):\n",
        "      plt.plot(data_dict[run].iloc[:-1].index, data_dict[run].iloc[:-1]['discharge_capacity'])\n",
        "      l.append(meta.loc[run, \"channel_id\"])\n",
        "plt.title(\"Batch2 to Remove\")\n",
        "plt.xlabel('Cycle Number')\n",
        "plt.ylabel('Discharge Capacity (Ah)')\n",
        "plt.legend(l);"
      ],
      "metadata": {
        "colab": {
          "base_uri": "https://localhost:8080/",
          "height": 295
        },
        "id": "l0kZ-RSHzevt",
        "outputId": "4198a1dd-78b1-428e-ffcb-adad10da9d33"
      },
      "execution_count": 222,
      "outputs": [
        {
          "output_type": "display_data",
          "data": {
            "text/plain": [
              "<Figure size 432x288 with 1 Axes>"
            ],
            "image/png": "[encoded data removed]"
          },
          "metadata": {
            "needs_background": "light"
          }
        }
      ]
    },
    {
      "cell_type": "code",
      "source": [
        "l = []\n",
        "for run in data_dict:\n",
        "    if (meta.loc[run,\"protocol_date\"] == batch2 and meta.loc[run, \"channel_id\"] in b2_resume_b3_chan_ids):\n",
        "      plt.plot(data_dict[run].iloc[:-1].index, data_dict[run].iloc[:-1]['discharge_capacity'])\n",
        "      l.append(meta.loc[run, \"channel_id\"])\n",
        "plt.title(\"Batch2 Interrupted runs\")\n",
        "plt.xlabel('Cycle Number')\n",
        "plt.ylabel('Discharge Capacity (Ah)')\n",
        "plt.legend(l);"
      ],
      "metadata": {
        "colab": {
          "base_uri": "https://localhost:8080/",
          "height": 295
        },
        "id": "TDnenkjdB6AR",
        "outputId": "c855c244-7652-474b-ee80-5b8bd94b64b8"
      },
      "execution_count": 225,
      "outputs": [
        {
          "output_type": "display_data",
          "data": {
            "text/plain": [
              "<Figure size 432x288 with 1 Axes>"
            ],
            "image/png": "[encoded data removed]"
          },
          "metadata": {
            "needs_background": "light"
          }
        }
      ]
    },
    {
      "cell_type": "markdown",
      "source": [
        "the corresponded data landed in the correct batch but it would need to be stitched together. Runs associated with cell 0 look noisy, may not want to use.\n",
        "May not want to use any of the stitched together data or just treat them as separate runs. Would this still be valuable if the discharge capacity did not start at 1.9?"
      ],
      "metadata": {
        "id": "FIJQol_sCeeR"
      }
    },
    {
      "cell_type": "markdown",
      "source": [
        "### Batch 3: 2017-06-30\n",
        "\n",
        "**Experimental design**\n",
        "\n",
        "All cells were cycled with one-step or two-step charging policies. The charging time is fixed at 10 minutes (0-80% SOC). There is generally only one cell tested per policy, with the exception of 4.8C(80%) (three cells).\n",
        "We resumed 5 cells from the 2017-05-12 batch that didn’t complete yet - 3.6C and 4.0C.\n",
        "We cycle to 75% of nominal capacity (0.88 Ah).\n",
        "5 minute rests were placed both after reaching 80% SOC during charging and after discharging.\n",
        "An initial C/10 cycle was performed in the beginning of each test.\n",
        "The cutoff currents for the constant-voltage steps were C/50 for both charge and discharge.\n",
        "The pulse width of the IR test is 30 ms.\n",
        "\n",
        "**Experimental notes**\n",
        "\n",
        "The computer automatically restarted, affecting all tests (around cycle 250 for most policies). There are some ‘spikes’ in capacity. This effectively lead to around an 8-hour ‘rest’.\n",
        "The computer also restarted near the end of the tests, with one cell (Channel 3, EL150800460623) affected (expect a ‘spike’ near the end of life).\n",
        "Upon unloading the cells, we noticed the thermocouples from channels 7 and 21 had fallen off the cell.\n",
        "The thermocouples for channels 15 and 16 were accidentally switched.\n",
        "\n",
        "**Data notes**\n",
        "\n",
        "3.6C(80%) and 4C(80%) policies have data that carry over from batch 1* (link on barcode). This applies to the cells in channels 1, 2, 3, 5, and 6. Please note that these are NOT new experiments, but a continuation of experiments from the 2017-05-12 batch.\n",
        "Channel 10 (EL150800460605), dies quite quickly. This cell is possibly defective, although we detected no obvious signs of this.\n",
        "\n",
        "*DG note: I think he means batch 2"
      ],
      "metadata": {
        "id": "e6UWiLHyAGeI"
      }
    },
    {
      "cell_type": "code",
      "source": [
        "meta.barcode.value_counts().head(8)"
      ],
      "metadata": {
        "colab": {
          "base_uri": "https://localhost:8080/"
        },
        "id": "AbNKeEtwPFDX",
        "outputId": "13360f2f-6f1e-42a4-a678-8a3bc9356c95"
      },
      "execution_count": 287,
      "outputs": [
        {
          "output_type": "execute_result",
          "data": {
            "text/plain": [
              "EL150800464865    2\n",
              "EL150800460514    2\n",
              "EL150800460486    2\n",
              "EL150800460623    2\n",
              "EL150800464977    2\n",
              "EL150800460522    1\n",
              "el150800460602    1\n",
              "el150800737334    1\n",
              "Name: barcode, dtype: int64"
            ]
          },
          "metadata": {},
          "execution_count": 287
        }
      ]
    },
    {
      "cell_type": "code",
      "source": [
        "meta[meta.barcode.isin(list(meta.barcode.value_counts().head(5).index))][[\"barcode\",\"protocol\", \"channel_id\"]].sort_values(by=\"barcode\") # yes, these are all together in 1 batch"
      ],
      "metadata": {
        "colab": {
          "base_uri": "https://localhost:8080/",
          "height": 394
        },
        "id": "x9djIQAFPM4k",
        "outputId": "ee6c2ec5-e95a-49a1-fca3-22ca905cabdf"
      },
      "execution_count": 292,
      "outputs": [
        {
          "output_type": "execute_result",
          "data": {
            "text/plain": [
              "                                                      barcode  \\\n",
              "filename                                                        \n",
              "/content/FastCharge_000004_CH2_structure.json  EL150800460486   \n",
              "/content/FastCharge_000045_CH2_structure.json  EL150800460486   \n",
              "/content/FastCharge_000045_CH1_structure.json  EL150800460514   \n",
              "/content/FastCharge_000004_CH1_structure.json  EL150800460514   \n",
              "/content/FastCharge_000045_CH3_structure.json  EL150800460623   \n",
              "/content/FastCharge_000004_CH3_structure.json  EL150800460623   \n",
              "/content/FastCharge_000026_CH6_structure.json  EL150800464865   \n",
              "/content/FastCharge_000063_CH6_structure.json  EL150800464865   \n",
              "/content/FastCharge_000063_CH5_structure.json  EL150800464977   \n",
              "/content/FastCharge_000026_CH5_structure.json  EL150800464977   \n",
              "\n",
              "                                                                                    protocol  \\\n",
              "filename                                                                                       \n",
              "/content/FastCharge_000004_CH2_structure.json  2017-05-12_TESTS\\20170512-3_6C-80PER_3_6C.SDU   \n",
              "/content/FastCharge_000045_CH2_structure.json  2017-05-12_TESTS\\20170512-3_6C-80PER_3_6C.SDU   \n",
              "/content/FastCharge_000045_CH1_structure.json  2017-05-12_TESTS\\20170512-3_6C-80PER_3_6C.SDU   \n",
              "/content/FastCharge_000004_CH1_structure.json  2017-05-12_TESTS\\20170512-3_6C-80PER_3_6C.SDU   \n",
              "/content/FastCharge_000045_CH3_structure.json  2017-05-12_TESTS\\20170512-3_6C-80PER_3_6C.SDU   \n",
              "/content/FastCharge_000004_CH3_structure.json  2017-05-12_TESTS\\20170512-3_6C-80PER_3_6C.SDU   \n",
              "/content/FastCharge_000026_CH6_structure.json      2017-05-12_TESTS\\20170512-4C-80PER_4C.SDU   \n",
              "/content/FastCharge_000063_CH6_structure.json      2017-05-12_TESTS\\20170512-4C-80PER_4C.SDU   \n",
              "/content/FastCharge_000063_CH5_structure.json      2017-05-12_TESTS\\20170512-4C-80PER_4C.SDU   \n",
              "/content/FastCharge_000026_CH5_structure.json      2017-05-12_TESTS\\20170512-4C-80PER_4C.SDU   \n",
              "\n",
              "                                               channel_id  \n",
              "filename                                                   \n",
              "/content/FastCharge_000004_CH2_structure.json           1  \n",
              "/content/FastCharge_000045_CH2_structure.json           1  \n",
              "/content/FastCharge_000045_CH1_structure.json           0  \n",
              "/content/FastCharge_000004_CH1_structure.json           0  \n",
              "/content/FastCharge_000045_CH3_structure.json           2  \n",
              "/content/FastCharge_000004_CH3_structure.json           2  \n",
              "/content/FastCharge_000026_CH6_structure.json           5  \n",
              "/content/FastCharge_000063_CH6_structure.json           5  \n",
              "/content/FastCharge_000063_CH5_structure.json           4  \n",
              "/content/FastCharge_000026_CH5_structure.json           4  "
            ],
            "text/html": [
              "\n",
              "  <div id=\"df-508f1db7-f08e-4055-9c30-804716947934\">\n",
              "    <div class=\"colab-df-container\">\n",
              "      <div>\n",
              "<style scoped>\n",
              "    .dataframe tbody tr th:only-of-type {\n",
              "        vertical-align: middle;\n",
              "    }\n",
              "\n",
              "    .dataframe tbody tr th {\n",
              "        vertical-align: top;\n",
              "    }\n",
              "\n",
              "    .dataframe thead th {\n",
              "        text-align: right;\n",
              "    }\n",
              "</style>\n",
              "<table border=\"1\" class=\"dataframe\">\n",
              "  <thead>\n",
              "    <tr style=\"text-align: right;\">\n",
              "      <th></th>\n",
              "      <th>barcode</th>\n",
              "      <th>protocol</th>\n",
              "      <th>channel_id</th>\n",
              "    </tr>\n",
              "    <tr>\n",
              "      <th>filename</th>\n",
              "      <th></th>\n",
              "      <th></th>\n",
              "      <th></th>\n",
              "    </tr>\n",
              "  </thead>\n",
              "  <tbody>\n",
              "    <tr>\n",
              "      <th>/content/FastCharge_000004_CH2_structure.json</th>\n",
              "      <td>EL150800460486</td>\n",
              "      <td>2017-05-12_TESTS\\20170512-3_6C-80PER_3_6C.SDU</td>\n",
              "      <td>1</td>\n",
              "    </tr>\n",
              "    <tr>\n",
              "      <th>/content/FastCharge_000045_CH2_structure.json</th>\n",
              "      <td>EL150800460486</td>\n",
              "      <td>2017-05-12_TESTS\\20170512-3_6C-80PER_3_6C.SDU</td>\n",
              "      <td>1</td>\n",
              "    </tr>\n",
              "    <tr>\n",
              "      <th>/content/FastCharge_000045_CH1_structure.json</th>\n",
              "      <td>EL150800460514</td>\n",
              "      <td>2017-05-12_TESTS\\20170512-3_6C-80PER_3_6C.SDU</td>\n",
              "      <td>0</td>\n",
              "    </tr>\n",
              "    <tr>\n",
              "      <th>/content/FastCharge_000004_CH1_structure.json</th>\n",
              "      <td>EL150800460514</td>\n",
              "      <td>2017-05-12_TESTS\\20170512-3_6C-80PER_3_6C.SDU</td>\n",
              "      <td>0</td>\n",
              "    </tr>\n",
              "    <tr>\n",
              "      <th>/content/FastCharge_000045_CH3_structure.json</th>\n",
              "      <td>EL150800460623</td>\n",
              "      <td>2017-05-12_TESTS\\20170512-3_6C-80PER_3_6C.SDU</td>\n",
              "      <td>2</td>\n",
              "    </tr>\n",
              "    <tr>\n",
              "      <th>/content/FastCharge_000004_CH3_structure.json</th>\n",
              "      <td>EL150800460623</td>\n",
              "      <td>2017-05-12_TESTS\\20170512-3_6C-80PER_3_6C.SDU</td>\n",
              "      <td>2</td>\n",
              "    </tr>\n",
              "    <tr>\n",
              "      <th>/content/FastCharge_000026_CH6_structure.json</th>\n",
              "      <td>EL150800464865</td>\n",
              "      <td>2017-05-12_TESTS\\20170512-4C-80PER_4C.SDU</td>\n",
              "      <td>5</td>\n",
              "    </tr>\n",
              "    <tr>\n",
              "      <th>/content/FastCharge_000063_CH6_structure.json</th>\n",
              "      <td>EL150800464865</td>\n",
              "      <td>2017-05-12_TESTS\\20170512-4C-80PER_4C.SDU</td>\n",
              "      <td>5</td>\n",
              "    </tr>\n",
              "    <tr>\n",
              "      <th>/content/FastCharge_000063_CH5_structure.json</th>\n",
              "      <td>EL150800464977</td>\n",
              "      <td>2017-05-12_TESTS\\20170512-4C-80PER_4C.SDU</td>\n",
              "      <td>4</td>\n",
              "    </tr>\n",
              "    <tr>\n",
              "      <th>/content/FastCharge_000026_CH5_structure.json</th>\n",
              "      <td>EL150800464977</td>\n",
              "      <td>2017-05-12_TESTS\\20170512-4C-80PER_4C.SDU</td>\n",
              "      <td>4</td>\n",
              "    </tr>\n",
              "  </tbody>\n",
              "</table>\n",
              "</div>\n",
              "      <button class=\"colab-df-convert\" onclick=\"convertToInteractive('df-508f1db7-f08e-4055-9c30-804716947934')\"\n",
              "              title=\"Convert this dataframe to an interactive table.\"\n",
              "              style=\"display:none;\">\n",
              "        \n",
              "  <svg xmlns=\"http://www.w3.org/2000/svg\" height=\"24px\"viewBox=\"0 0 24 24\"\n",
              "       width=\"24px\">\n",
              "    <path d=\"M0 0h24v24H0V0z\" fill=\"none\"/>\n",
              "    <path d=\"M18.56 5.44l.94 2.06.94-2.06 2.06-.94-2.06-.94-.94-2.06-.94 2.06-2.06.94zm-11 1L8.5 8.5l.94-2.06 2.06-.94-2.06-.94L8.5 2.5l-.94 2.06-2.06.94zm10 10l.94 2.06.94-2.06 2.06-.94-2.06-.94-.94-2.06-.94 2.06-2.06.94z\"/><path d=\"M17.41 7.96l-1.37-1.37c-.4-.4-.92-.59-1.43-.59-.52 0-1.04.2-1.43.59L10.3 9.45l-7.72 7.72c-.78.78-.78 2.05 0 2.83L4 21.41c.39.39.9.59 1.41.59.51 0 1.02-.2 1.41-.59l7.78-7.78 2.81-2.81c.8-.78.8-2.07 0-2.86zM5.41 20L4 18.59l7.72-7.72 1.47 1.35L5.41 20z\"/>\n",
              "  </svg>\n",
              "      </button>\n",
              "      \n",
              "  <style>\n",
              "    .colab-df-container {\n",
              "      display:flex;\n",
              "      flex-wrap:wrap;\n",
              "      gap: 12px;\n",
              "    }\n",
              "\n",
              "    .colab-df-convert {\n",
              "      background-color: #E8F0FE;\n",
              "      border: none;\n",
              "      border-radius: 50%;\n",
              "      cursor: pointer;\n",
              "      display: none;\n",
              "      fill: #1967D2;\n",
              "      height: 32px;\n",
              "      padding: 0 0 0 0;\n",
              "      width: 32px;\n",
              "    }\n",
              "\n",
              "    .colab-df-convert:hover {\n",
              "      background-color: #E2EBFA;\n",
              "      box-shadow: 0px 1px 2px rgba(60, 64, 67, 0.3), 0px 1px 3px 1px rgba(60, 64, 67, 0.15);\n",
              "      fill: #174EA6;\n",
              "    }\n",
              "\n",
              "    [theme=dark] .colab-df-convert {\n",
              "      background-color: #3B4455;\n",
              "      fill: #D2E3FC;\n",
              "    }\n",
              "\n",
              "    [theme=dark] .colab-df-convert:hover {\n",
              "      background-color: #434B5C;\n",
              "      box-shadow: 0px 1px 3px 1px rgba(0, 0, 0, 0.15);\n",
              "      filter: drop-shadow(0px 1px 2px rgba(0, 0, 0, 0.3));\n",
              "      fill: #FFFFFF;\n",
              "    }\n",
              "  </style>\n",
              "\n",
              "      <script>\n",
              "        const buttonEl =\n",
              "          document.querySelector('#df-508f1db7-f08e-4055-9c30-804716947934 button.colab-df-convert');\n",
              "        buttonEl.style.display =\n",
              "          google.colab.kernel.accessAllowed ? 'block' : 'none';\n",
              "\n",
              "        async function convertToInteractive(key) {\n",
              "          const element = document.querySelector('#df-508f1db7-f08e-4055-9c30-804716947934');\n",
              "          const dataTable =\n",
              "            await google.colab.kernel.invokeFunction('convertToInteractive',\n",
              "                                                     [key], {});\n",
              "          if (!dataTable) return;\n",
              "\n",
              "          const docLinkHtml = 'Like what you see? Visit the ' +\n",
              "            '<a target=\"_blank\" href=https://colab.research.google.com/notebooks/data_table.ipynb>data table notebook</a>'\n",
              "            + ' to learn more about interactive tables.';\n",
              "          element.innerHTML = '';\n",
              "          dataTable['output_type'] = 'display_data';\n",
              "          await google.colab.output.renderOutput(dataTable, element);\n",
              "          const docLink = document.createElement('div');\n",
              "          docLink.innerHTML = docLinkHtml;\n",
              "          element.appendChild(docLink);\n",
              "        }\n",
              "      </script>\n",
              "    </div>\n",
              "  </div>\n",
              "  "
            ]
          },
          "metadata": {},
          "execution_count": 292
        }
      ]
    },
    {
      "cell_type": "code",
      "source": [
        "# Batch3: 2017-06-30\n",
        "b3_t_switch = [15,14]\n",
        "b3_no_t = [6,20]\n",
        "b3_defective = [9]\n",
        "# b3_chan_ids = [37,2,23,32,42,43] # reported as noisy in source code\n",
        "\n",
        "b3_chan_ids =[44, 27, 12, 15, 26, 14, 37, 21, 24, 19, 42, 18]"
      ],
      "metadata": {
        "id": "sNNPEDcd21tc"
      },
      "execution_count": 279,
      "outputs": []
    },
    {
      "cell_type": "code",
      "source": [
        "\n",
        "for run in data_dict:\n",
        "    if (meta.loc[run,\"protocol_date\"] == batch3):\n",
        "      plt.plot(data_dict[run].iloc[:-1].index, data_dict[run].iloc[:-1]['discharge_capacity'])\n",
        "\n",
        "plt.title(\"All Batch 3 runs\")\n",
        "plt.xlabel('Cycle Number')\n",
        "plt.ylabel('Discharge Capacity (Ah)');"
      ],
      "metadata": {
        "colab": {
          "base_uri": "https://localhost:8080/",
          "height": 295
        },
        "id": "JwOqmVZMFUsC",
        "outputId": "7cf12169-984f-4b9f-f572-301e93b91cbe"
      },
      "execution_count": 264,
      "outputs": [
        {
          "output_type": "display_data",
          "data": {
            "text/plain": [
              "<Figure size 432x288 with 1 Axes>"
            ],
            "image/png": "[encoded data removed]"
          },
          "metadata": {
            "needs_background": "light"
          }
        }
      ]
    },
    {
      "cell_type": "code",
      "source": [
        "l = []\n",
        "for run in data_dict:\n",
        "    if (meta.loc[run,\"protocol_date\"] == batch3 and meta.loc[run, \"channel_id\"] in b3_defective):\n",
        "      plt.plot(data_dict[run].iloc[:-1].index, data_dict[run].iloc[:-1]['discharge_capacity'])\n",
        "      l.append(meta.loc[run, \"channel_id\"])\n",
        "plt.title(\"Defective Batch 3 runs\")\n",
        "plt.xlabel('Cycle Number')\n",
        "plt.ylabel('Discharge Capacity (Ah)')\n",
        "plt.legend(l);"
      ],
      "metadata": {
        "colab": {
          "base_uri": "https://localhost:8080/",
          "height": 295
        },
        "id": "TVhn0Gd9Flc9",
        "outputId": "bd38897b-c66a-4bfe-ef8d-b554832f56d2"
      },
      "execution_count": 265,
      "outputs": [
        {
          "output_type": "display_data",
          "data": {
            "text/plain": [
              "<Figure size 432x288 with 1 Axes>"
            ],
            "image/png": "[encoded data removed]"
          },
          "metadata": {
            "needs_background": "light"
          }
        }
      ]
    },
    {
      "cell_type": "markdown",
      "source": [
        "Oh yeah, very few cycles until discharge."
      ],
      "metadata": {
        "id": "Pu2KP5vvF1Fr"
      }
    },
    {
      "cell_type": "markdown",
      "source": [
        "I didn't feel that the noise expressed in the source code corresponded to anything notable. So I focused on the blip between 200 and 300 cycles and filtered out curves with a significant spike up and down."
      ],
      "metadata": {
        "id": "G_uOSojCFEhY"
      }
    },
    {
      "cell_type": "code",
      "source": [
        "m = []\n",
        "for run in data_dict:\n",
        "    if (meta.loc[run,\"protocol_date\"] == batch3):\n",
        "      m.append((meta.loc[run,\"channel_id\"], data_dict[run].iloc[200:300]['discharge_capacity'].min())) # also checked max\n",
        "sorted(m, key=lambda x: x[1]) # 44, 27, 12, 16, 11, 14, 37, 21, 24, 19, 42, 18"
      ],
      "metadata": {
        "colab": {
          "base_uri": "https://localhost:8080/"
        },
        "id": "-6q_0NN1Gs69",
        "outputId": "995782f6-781e-4b99-f664-2a5775911eb2"
      },
      "execution_count": 252,
      "outputs": [
        {
          "output_type": "execute_result",
          "data": {
            "text/plain": [
              "[(8, 0.88159466),\n",
              " (15, 0.89948249),\n",
              " (12, 0.90786719),\n",
              " (26, 0.90870988),\n",
              " (11, 0.92371541),\n",
              " (14, 0.94029099),\n",
              " (37, 0.94319415),\n",
              " (21, 0.94565272),\n",
              " (24, 0.95257086),\n",
              " (19, 0.96377116),\n",
              " (42, 0.97584051),\n",
              " (18, 0.98937511),\n",
              " (27, 0.99884367),\n",
              " (28, 1.0165552),\n",
              " (17, 1.0178832),\n",
              " (47, 1.0265777),\n",
              " (6, 1.0293771),\n",
              " (10, 1.0349157),\n",
              " (7, 1.0358611),\n",
              " (23, 1.03715),\n",
              " (20, 1.0389606),\n",
              " (35, 1.0398695),\n",
              " (41, 1.0401804000000001),\n",
              " (30, 1.0422274999999999),\n",
              " (13, 1.0426881),\n",
              " (16, 1.0438991),\n",
              " (22, 1.044337),\n",
              " (40, 1.0444626000000001),\n",
              " (45, 1.0453019000000001),\n",
              " (3, 1.046964),\n",
              " (25, 1.0474318999999999),\n",
              " (43, 1.0493958),\n",
              " (38, 1.0511163000000001),\n",
              " (29, 1.0524485000000001),\n",
              " (44, 1.0532678),\n",
              " (46, 1.0535636999999998),\n",
              " (31, 1.0559882999999999),\n",
              " (34, 1.0578086000000002),\n",
              " (39, 1.062699),\n",
              " (32, 1.0632612),\n",
              " (36, 1.0665576),\n",
              " (33, 1.0685841999999999),\n",
              " (9, nan)]"
            ]
          },
          "metadata": {},
          "execution_count": 252
        }
      ]
    },
    {
      "cell_type": "code",
      "source": [
        "l = []\n",
        "for run in data_dict:\n",
        "    if (meta.loc[run,\"protocol_date\"] == batch3 and meta.loc[run, \"channel_id\"] in b3_chan_ids):\n",
        "      plt.plot(data_dict[run].iloc[:-1].index, data_dict[run].iloc[:-1]['discharge_capacity'])\n",
        "      l.append(meta.loc[run, \"channel_id\"])\n",
        "plt.title(\"noisey Batch 3 runs\")\n",
        "plt.xlabel('Cycle Number')\n",
        "plt.ylabel('Discharge Capacity (Ah)')\n",
        "plt.legend(l)\n",
        "plt.gcf().set_size_inches(14, 10);"
      ],
      "metadata": {
        "colab": {
          "base_uri": "https://localhost:8080/",
          "height": 621
        },
        "id": "1TQ_YgLYEhdO",
        "outputId": "76222d31-cc11-46ab-adbc-a2a31456af23"
      },
      "execution_count": 280,
      "outputs": [
        {
          "output_type": "display_data",
          "data": {
            "text/plain": [
              "<Figure size 1008x720 with 1 Axes>"
            ],
            "image/png": "[encoded data removed]"
          },
          "metadata": {
            "needs_background": "light"
          }
        }
      ]
    },
    {
      "cell_type": "code",
      "source": [
        "l = []\n",
        "for run in data_dict:\n",
        "    if (meta.loc[run,\"protocol_date\"] == batch3 and not meta.loc[run, \"channel_id\"] in b3_chan_ids):\n",
        "      plt.plot(data_dict[run].iloc[:-1].index, data_dict[run].iloc[:-1]['discharge_capacity'])\n",
        "      l.append(meta.loc[run, \"channel_id\"])\n",
        "plt.title(\"w/o noisey Batch 3 runs\")\n",
        "plt.xlabel('Cycle Number')\n",
        "plt.ylabel('Discharge Capacity (Ah)')\n",
        "plt.legend(l)\n",
        "plt.gcf().set_size_inches(14, 10);"
      ],
      "metadata": {
        "colab": {
          "base_uri": "https://localhost:8080/",
          "height": 621
        },
        "id": "rOk_O-6cJsMt",
        "outputId": "c52dc0ae-8bb0-42e3-8ad5-0742213bb7a6"
      },
      "execution_count": 273,
      "outputs": [
        {
          "output_type": "display_data",
          "data": {
            "text/plain": [
              "<Figure size 1008x720 with 1 Axes>"
            ],
            "image/png": "[encoded data removed]"
          },
          "metadata": {
            "needs_background": "light"
          }
        }
      ]
    },
    {
      "cell_type": "markdown",
      "source": [
        "There may still be some curves in there with noise. Peraps with runs with the spikes are not actually the issue but the runs with many small pertibations are a problem?"
      ],
      "metadata": {
        "id": "KIGDY_tuKXa_"
      }
    },
    {
      "cell_type": "markdown",
      "source": [
        "### Final Summary"
      ],
      "metadata": {
        "id": "e6BCeURRLe6n"
      }
    },
    {
      "cell_type": "code",
      "source": [
        "super_list = b1_chan_ids + b2_chan_ids + b2_resume_b3_chan_ids + b3_defective + b3_chan_ids\n",
        "for run in data_dict:\n",
        "    if not meta.loc[run, \"channel_id\"] in super_list:\n",
        "      plt.plot(data_dict[run].iloc[1:-1].index, data_dict[run].iloc[1:-1]['discharge_capacity'])\n",
        "\n",
        "plt.xlabel('Cycle Number')\n",
        "plt.ylabel('Discharge Capacity (Ah)')\n",
        "plt.title(\"Without Abnormal Runs\");"
      ],
      "metadata": {
        "colab": {
          "base_uri": "https://localhost:8080/",
          "height": 295
        },
        "id": "9WFIwrw_uE1_",
        "outputId": "b6902075-73c9-4d51-8e96-512565b25611"
      },
      "execution_count": 281,
      "outputs": [
        {
          "output_type": "display_data",
          "data": {
            "text/plain": [
              "<Figure size 432x288 with 1 Axes>"
            ],
            "image/png": "[encoded data removed]"
          },
          "metadata": {
            "needs_background": "light"
          }
        }
      ]
    },
    {
      "cell_type": "markdown",
      "source": [
        "it looks like batch 3 data did actually go close to 80%; the rest did not."
      ],
      "metadata": {
        "id": "E62U25xdN_I3"
      }
    },
    {
      "cell_type": "code",
      "source": [],
      "metadata": {
        "id": "Dvw0UDIWuFBb"
      },
      "execution_count": null,
      "outputs": []
    },
    {
      "cell_type": "markdown",
      "source": [
        "# Old Source Code"
      ],
      "metadata": {
        "id": "xpey_tpHo7MK"
      }
    },
    {
      "cell_type": "code",
      "execution_count": null,
      "metadata": {
        "id": "sgoJUeEFwTwt"
      },
      "outputs": [],
      "source": [
        "batch1 = pickle.load(open(r'.\\Data\\batch1.pkl', 'rb'))\n",
        "#remove batteries that do not reach 80% capacity\n",
        "del batch1['b1c8']\n",
        "del batch1['b1c10']\n",
        "del batch1['b1c12']\n",
        "del batch1['b1c13']\n",
        "del batch1['b1c22']\n",
        "\n"
      ]
    },
    {
      "cell_type": "code",
      "execution_count": null,
      "metadata": {
        "id": "BNAqsaN1wTwu",
        "outputId": "1448ec57-7c19-4648-b650-ec7b28ecf7b9"
      },
      "outputs": [
        {
          "data": {
            "text/plain": [
              "41"
            ]
          },
          "execution_count": 3,
          "metadata": {},
          "output_type": "execute_result"
        }
      ],
      "source": [
        "numBat1 = len(batch1.keys())\n",
        "numBat1"
      ]
    },
    {
      "cell_type": "code",
      "execution_count": null,
      "metadata": {
        "id": "rlQLa55iwTwu"
      },
      "outputs": [],
      "source": [
        "batch2 = pickle.load(open(r'.\\Data\\batch2.pkl','rb'))"
      ]
    },
    {
      "cell_type": "code",
      "execution_count": null,
      "metadata": {
        "collapsed": true,
        "id": "Np98N_j4wTwv"
      },
      "outputs": [],
      "source": [
        "# There are four cells from batch1 that carried into batch2, we'll remove the data from batch2\n",
        "# and put it with the correct cell from batch1\n",
        "batch2_keys = ['b2c7', 'b2c8', 'b2c9', 'b2c15', 'b2c16']\n",
        "batch1_keys = ['b1c0', 'b1c1', 'b1c2', 'b1c3', 'b1c4']\n",
        "add_len = [662, 981, 1060, 208, 482];"
      ]
    },
    {
      "cell_type": "code",
      "execution_count": null,
      "metadata": {
        "id": "GO8rH-JBwTwv"
      },
      "outputs": [],
      "source": [
        "for i, bk in enumerate(batch1_keys):\n",
        "    batch1[bk]['cycle_life'] = batch1[bk]['cycle_life'] + add_len[i]\n",
        "    for j in batch1[bk]['summary'].keys():\n",
        "        if j == 'cycle':\n",
        "            batch1[bk]['summary'][j] = np.hstack((batch1[bk]['summary'][j], batch2[batch2_keys[i]]['summary'][j] + len(batch1[bk]['summary'][j])))\n",
        "        else:\n",
        "            batch1[bk]['summary'][j] = np.hstack((batch1[bk]['summary'][j], batch2[batch2_keys[i]]['summary'][j]))\n",
        "    last_cycle = len(batch1[bk]['cycles'].keys())\n",
        "    for j, jk in enumerate(batch2[batch2_keys[i]]['cycles'].keys()):\n",
        "        batch1[bk]['cycles'][str(last_cycle + j)] = batch2[batch2_keys[i]]['cycles'][jk]"
      ]
    },
    {
      "cell_type": "code",
      "execution_count": null,
      "metadata": {
        "collapsed": true,
        "id": "w4lj7F55wTwv"
      },
      "outputs": [],
      "source": [
        "del batch2['b2c7']\n",
        "del batch2['b2c8']\n",
        "del batch2['b2c9']\n",
        "del batch2['b2c15']\n",
        "del batch2['b2c16']"
      ]
    },
    {
      "cell_type": "code",
      "execution_count": null,
      "metadata": {
        "id": "oUvUEaPXwTwv",
        "outputId": "4f45622d-997e-4629-86bf-468f2bf91b43"
      },
      "outputs": [
        {
          "data": {
            "text/plain": [
              "43"
            ]
          },
          "execution_count": 8,
          "metadata": {},
          "output_type": "execute_result"
        }
      ],
      "source": [
        "numBat2 = len(batch2.keys())\n",
        "numBat2"
      ]
    },
    {
      "cell_type": "code",
      "execution_count": null,
      "metadata": {
        "collapsed": true,
        "id": "obvli1mlwTww"
      },
      "outputs": [],
      "source": [
        "batch3 = pickle.load(open(r'.\\Data\\batch3.pkl','rb'))\n",
        "# remove noisy channels from batch3\n",
        "del batch3['b3c37']\n",
        "del batch3['b3c2']\n",
        "del batch3['b3c23']\n",
        "del batch3['b3c32']\n",
        "del batch3['b3c42']\n",
        "del batch3['b3c43']"
      ]
    },
    {
      "cell_type": "code",
      "execution_count": null,
      "metadata": {
        "id": "HMK5m_MAwTww",
        "outputId": "a75dfde7-99dd-4cdc-fc01-da7350df9ec7"
      },
      "outputs": [
        {
          "data": {
            "text/plain": [
              "40"
            ]
          },
          "execution_count": 10,
          "metadata": {},
          "output_type": "execute_result"
        }
      ],
      "source": [
        "numBat3 = len(batch3.keys())\n",
        "numBat3"
      ]
    },
    {
      "cell_type": "code",
      "execution_count": null,
      "metadata": {
        "id": "JcjBVx5GwTww",
        "outputId": "fee2e2e2-9b6b-4549-db51-3f7e2e13e35b"
      },
      "outputs": [
        {
          "data": {
            "text/plain": [
              "124"
            ]
          },
          "execution_count": 11,
          "metadata": {},
          "output_type": "execute_result"
        }
      ],
      "source": [
        "numBat = numBat1 + numBat2 + numBat3\n",
        "numBat"
      ]
    },
    {
      "cell_type": "code",
      "execution_count": null,
      "metadata": {
        "collapsed": true,
        "id": "htG97he9wTww"
      },
      "outputs": [],
      "source": [
        "bat_dict = {**batch1, **batch2, **batch3}"
      ]
    },
    {
      "cell_type": "code",
      "execution_count": null,
      "metadata": {
        "id": "367Elq8VwTww",
        "outputId": "6d4e1737-a39f-497f-b704-698d17be024e"
      },
      "outputs": [
        {
          "data": {
            "text/plain": [
              "Text(0, 0.5, 'Discharge Capacity (Ah)')"
            ]
          },
          "execution_count": 13,
          "metadata": {},
          "output_type": "execute_result"
        },
        {
          "data": {
            "image/png": "[encoded data removed]",
            "text/plain": [
              "<Figure size 432x288 with 1 Axes>"
            ]
          },
          "metadata": {
            "needs_background": "light"
          },
          "output_type": "display_data"
        }
      ],
      "source": [
        "for i in bat_dict.keys():\n",
        "    plt.plot(bat_dict[i]['summary']['cycle'], bat_dict[i]['summary']['QD'])\n",
        "plt.xlabel('Cycle Number')\n",
        "plt.ylabel('Discharge Capacity (Ah)')"
      ]
    },
    {
      "cell_type": "markdown",
      "metadata": {
        "id": "rfIcHD0jwTwx"
      },
      "source": [
        "### Train and Test Split\n",
        "If you are interested in using the same train/test split as the paper, use the indices specified below"
      ]
    },
    {
      "cell_type": "code",
      "execution_count": null,
      "metadata": {
        "collapsed": true,
        "id": "RQw9SAhJwTwx"
      },
      "outputs": [],
      "source": [
        "test_ind = np.hstack((np.arange(0,(numBat1+numBat2),2),83))\n",
        "train_ind = np.arange(1,(numBat1+numBat2-1),2)\n",
        "secondary_test_ind = np.arange(numBat-numBat3,numBat);"
      ]
    }
  ],
  "metadata": {
    "kernelspec": {
      "display_name": "py_36_env",
      "language": "python",
      "name": "py_36_env"
    },
    "language_info": {
      "codemirror_mode": {
        "name": "ipython",
        "version": 3
      },
      "file_extension": ".py",
      "mimetype": "text/x-python",
      "name": "python",
      "nbconvert_exporter": "python",
      "pygments_lexer": "ipython3",
      "version": "3.7.0"
    },
    "colab": {
      "provenance": [],
      "include_colab_link": true
    }
  },
  "nbformat": 4,
  "nbformat_minor": 0
}